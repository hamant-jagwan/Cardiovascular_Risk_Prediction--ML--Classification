{
  "nbformat": 4,
  "nbformat_minor": 0,
  "metadata": {
    "colab": {
      "provenance": [],
      "authorship_tag": "ABX9TyPgIVadj5z8UKo/PvCClmfq",
      "include_colab_link": true
    },
    "kernelspec": {
      "name": "python3",
      "display_name": "Python 3"
    },
    "language_info": {
      "name": "python"
    }
  },
  "cells": [
    {
      "cell_type": "markdown",
      "metadata": {
        "id": "view-in-github",
        "colab_type": "text"
      },
      "source": [
        "<a href=\"https://colab.research.google.com/github/hamant-jagwan/Cardiovascular_Risk_Prediction--ML--Classification/blob/main/Cardiovascular_Risk_Prediction.ipynb\" target=\"_parent\"><img src=\"https://colab.research.google.com/assets/colab-badge.svg\" alt=\"Open In Colab\"/></a>"
      ]
    },
    {
      "cell_type": "markdown",
      "source": [
        "# <u>**Project Title : Cardiovascular Risk Prediction**\n"
      ],
      "metadata": {
        "id": "urKmSEEANyqZ"
      }
    },
    {
      "cell_type": "markdown",
      "source": [
        "**Project type** - Classification\n",
        "\n",
        "**Contribution** - Individual"
      ],
      "metadata": {
        "id": "_-EPkEWQN_lO"
      }
    },
    {
      "cell_type": "markdown",
      "source": [
        "**Index:**\n",
        "1. Problem statement\n",
        "2. Importing the libraries and the dataset\n",
        "3. Understand the data\n",
        "4. Data cleaning\n",
        "5. Handling missing data\n",
        "6. Exploratory data analysis\n",
        "7. Feature selection\n",
        "8. Data preprocessing\n",
        "9. ML model implementation\n",
        "10. Results\n",
        "11. Summary and conclusions\n"
      ],
      "metadata": {
        "id": "OdB_qmIyODMQ"
      }
    },
    {
      "cell_type": "markdown",
      "source": [
        "# **1. Problem Statement:**"
      ],
      "metadata": {
        "id": "VwujUrcFOJ6l"
      }
    },
    {
      "cell_type": "markdown",
      "source": [
        "* Cardiovascular diseases (CVDs) are the major cause of mortality worldwide. According to WHO, 17.9 million people died from CVDs in 2019, accounting for 32% of all global fatalities.\n",
        "* Though CVDs cannot be treated, predicting the risk of the disease and taking the necessary precautions and medications can help to avoid severe symptoms and, in some cases, even death.\n",
        "* As a result, it is critical that we accurately predict the risk of heart disease in order to avert as many fatalities as possible."
      ],
      "metadata": {
        "id": "hGBpcmWwOJnK"
      }
    },
    {
      "cell_type": "markdown",
      "source": [
        "# **2. Importing the libraries and the dataset:**"
      ],
      "metadata": {
        "id": "qj1mEEFpORwG"
      }
    },
    {
      "cell_type": "code",
      "source": [
        "import pandas as pd\n",
        "import numpy as np\n",
        "import seaborn as sns\n",
        "import matplotlib.pyplot as plt\n",
        "\n",
        "from sklearn.impute import KNNImputer\n",
        "from sklearn.feature_selection import chi2\n",
        "from sklearn.metrics import recall_score\n",
        "from sklearn.model_selection import train_test_split\n",
        "from imblearn.over_sampling import SMOTE\n",
        "from sklearn.preprocessing import StandardScaler\n",
        "\n",
        "from sklearn.linear_model import LogisticRegression\n",
        "from sklearn.metrics import classification_report\n",
        "from sklearn.neighbors import KNeighborsClassifier\n",
        "from sklearn.naive_bayes import GaussianNB\n",
        "from sklearn.model_selection import GridSearchCV\n",
        "from sklearn.model_selection import RepeatedStratifiedKFold\n",
        "from sklearn.tree import DecisionTreeClassifier\n",
        "from sklearn.svm import SVC\n",
        "from sklearn.ensemble import RandomForestClassifier\n",
        "import xgboost as xgb\n",
        "\n",
        "from prettytable import PrettyTable\n",
        "\n",
        "import warnings\n",
        "warnings.filterwarnings('ignore')\n",
        "\n",
        "%matplotlib inline\n",
        "sns.set()"
      ],
      "metadata": {
        "id": "3VKBrYddN_Wq"
      },
      "execution_count": 1,
      "outputs": []
    },
    {
      "cell_type": "code",
      "execution_count": 2,
      "metadata": {
        "id": "FLD7lKqTNsr0"
      },
      "outputs": [],
      "source": [
        "# Load Dataset\n",
        "data = 'https://raw.githubusercontent.com/hamant-jagwan/Cardiovascular_Risk_Prediction--ML--Classification/main/Cardiovascular_Risk_Prediction.csv'\n",
        "cardio_df = pd.read_csv(data,index_col='id', encoding= 'ISO-8859-1')"
      ]
    },
    {
      "cell_type": "markdown",
      "source": [
        "# **3. Understand the Data:**"
      ],
      "metadata": {
        "id": "z0toz4PBNxwN"
      }
    },
    {
      "cell_type": "code",
      "source": [
        "# First 5 rows of the dataset\n",
        "cardio_df.head()\n"
      ],
      "metadata": {
        "colab": {
          "base_uri": "https://localhost:8080/",
          "height": 237
        },
        "id": "SuUeopk-SSNz",
        "outputId": "e649b9db-be22-420d-ab06-a39363d2f758"
      },
      "execution_count": 3,
      "outputs": [
        {
          "output_type": "execute_result",
          "data": {
            "text/plain": [
              "    age  education sex is_smoking  cigsPerDay  BPMeds  prevalentStroke  \\\n",
              "id                                                                       \n",
              "0    64        2.0   F        YES         3.0     0.0                0   \n",
              "1    36        4.0   M         NO         0.0     0.0                0   \n",
              "2    46        1.0   F        YES        10.0     0.0                0   \n",
              "3    50        1.0   M        YES        20.0     0.0                0   \n",
              "4    64        1.0   F        YES        30.0     0.0                0   \n",
              "\n",
              "    prevalentHyp  diabetes  totChol  sysBP  diaBP    BMI  heartRate  glucose  \\\n",
              "id                                                                             \n",
              "0              0         0    221.0  148.0   85.0    NaN       90.0     80.0   \n",
              "1              1         0    212.0  168.0   98.0  29.77       72.0     75.0   \n",
              "2              0         0    250.0  116.0   71.0  20.35       88.0     94.0   \n",
              "3              1         0    233.0  158.0   88.0  28.26       68.0     94.0   \n",
              "4              0         0    241.0  136.5   85.0  26.42       70.0     77.0   \n",
              "\n",
              "    TenYearCHD  \n",
              "id              \n",
              "0            1  \n",
              "1            0  \n",
              "2            0  \n",
              "3            1  \n",
              "4            0  "
            ],
            "text/html": [
              "\n",
              "  <div id=\"df-5b56a952-664c-497d-a0d7-3eff1e6cdfcc\">\n",
              "    <div class=\"colab-df-container\">\n",
              "      <div>\n",
              "<style scoped>\n",
              "    .dataframe tbody tr th:only-of-type {\n",
              "        vertical-align: middle;\n",
              "    }\n",
              "\n",
              "    .dataframe tbody tr th {\n",
              "        vertical-align: top;\n",
              "    }\n",
              "\n",
              "    .dataframe thead th {\n",
              "        text-align: right;\n",
              "    }\n",
              "</style>\n",
              "<table border=\"1\" class=\"dataframe\">\n",
              "  <thead>\n",
              "    <tr style=\"text-align: right;\">\n",
              "      <th></th>\n",
              "      <th>age</th>\n",
              "      <th>education</th>\n",
              "      <th>sex</th>\n",
              "      <th>is_smoking</th>\n",
              "      <th>cigsPerDay</th>\n",
              "      <th>BPMeds</th>\n",
              "      <th>prevalentStroke</th>\n",
              "      <th>prevalentHyp</th>\n",
              "      <th>diabetes</th>\n",
              "      <th>totChol</th>\n",
              "      <th>sysBP</th>\n",
              "      <th>diaBP</th>\n",
              "      <th>BMI</th>\n",
              "      <th>heartRate</th>\n",
              "      <th>glucose</th>\n",
              "      <th>TenYearCHD</th>\n",
              "    </tr>\n",
              "    <tr>\n",
              "      <th>id</th>\n",
              "      <th></th>\n",
              "      <th></th>\n",
              "      <th></th>\n",
              "      <th></th>\n",
              "      <th></th>\n",
              "      <th></th>\n",
              "      <th></th>\n",
              "      <th></th>\n",
              "      <th></th>\n",
              "      <th></th>\n",
              "      <th></th>\n",
              "      <th></th>\n",
              "      <th></th>\n",
              "      <th></th>\n",
              "      <th></th>\n",
              "      <th></th>\n",
              "    </tr>\n",
              "  </thead>\n",
              "  <tbody>\n",
              "    <tr>\n",
              "      <th>0</th>\n",
              "      <td>64</td>\n",
              "      <td>2.0</td>\n",
              "      <td>F</td>\n",
              "      <td>YES</td>\n",
              "      <td>3.0</td>\n",
              "      <td>0.0</td>\n",
              "      <td>0</td>\n",
              "      <td>0</td>\n",
              "      <td>0</td>\n",
              "      <td>221.0</td>\n",
              "      <td>148.0</td>\n",
              "      <td>85.0</td>\n",
              "      <td>NaN</td>\n",
              "      <td>90.0</td>\n",
              "      <td>80.0</td>\n",
              "      <td>1</td>\n",
              "    </tr>\n",
              "    <tr>\n",
              "      <th>1</th>\n",
              "      <td>36</td>\n",
              "      <td>4.0</td>\n",
              "      <td>M</td>\n",
              "      <td>NO</td>\n",
              "      <td>0.0</td>\n",
              "      <td>0.0</td>\n",
              "      <td>0</td>\n",
              "      <td>1</td>\n",
              "      <td>0</td>\n",
              "      <td>212.0</td>\n",
              "      <td>168.0</td>\n",
              "      <td>98.0</td>\n",
              "      <td>29.77</td>\n",
              "      <td>72.0</td>\n",
              "      <td>75.0</td>\n",
              "      <td>0</td>\n",
              "    </tr>\n",
              "    <tr>\n",
              "      <th>2</th>\n",
              "      <td>46</td>\n",
              "      <td>1.0</td>\n",
              "      <td>F</td>\n",
              "      <td>YES</td>\n",
              "      <td>10.0</td>\n",
              "      <td>0.0</td>\n",
              "      <td>0</td>\n",
              "      <td>0</td>\n",
              "      <td>0</td>\n",
              "      <td>250.0</td>\n",
              "      <td>116.0</td>\n",
              "      <td>71.0</td>\n",
              "      <td>20.35</td>\n",
              "      <td>88.0</td>\n",
              "      <td>94.0</td>\n",
              "      <td>0</td>\n",
              "    </tr>\n",
              "    <tr>\n",
              "      <th>3</th>\n",
              "      <td>50</td>\n",
              "      <td>1.0</td>\n",
              "      <td>M</td>\n",
              "      <td>YES</td>\n",
              "      <td>20.0</td>\n",
              "      <td>0.0</td>\n",
              "      <td>0</td>\n",
              "      <td>1</td>\n",
              "      <td>0</td>\n",
              "      <td>233.0</td>\n",
              "      <td>158.0</td>\n",
              "      <td>88.0</td>\n",
              "      <td>28.26</td>\n",
              "      <td>68.0</td>\n",
              "      <td>94.0</td>\n",
              "      <td>1</td>\n",
              "    </tr>\n",
              "    <tr>\n",
              "      <th>4</th>\n",
              "      <td>64</td>\n",
              "      <td>1.0</td>\n",
              "      <td>F</td>\n",
              "      <td>YES</td>\n",
              "      <td>30.0</td>\n",
              "      <td>0.0</td>\n",
              "      <td>0</td>\n",
              "      <td>0</td>\n",
              "      <td>0</td>\n",
              "      <td>241.0</td>\n",
              "      <td>136.5</td>\n",
              "      <td>85.0</td>\n",
              "      <td>26.42</td>\n",
              "      <td>70.0</td>\n",
              "      <td>77.0</td>\n",
              "      <td>0</td>\n",
              "    </tr>\n",
              "  </tbody>\n",
              "</table>\n",
              "</div>\n",
              "      <button class=\"colab-df-convert\" onclick=\"convertToInteractive('df-5b56a952-664c-497d-a0d7-3eff1e6cdfcc')\"\n",
              "              title=\"Convert this dataframe to an interactive table.\"\n",
              "              style=\"display:none;\">\n",
              "        \n",
              "  <svg xmlns=\"http://www.w3.org/2000/svg\" height=\"24px\"viewBox=\"0 0 24 24\"\n",
              "       width=\"24px\">\n",
              "    <path d=\"M0 0h24v24H0V0z\" fill=\"none\"/>\n",
              "    <path d=\"M18.56 5.44l.94 2.06.94-2.06 2.06-.94-2.06-.94-.94-2.06-.94 2.06-2.06.94zm-11 1L8.5 8.5l.94-2.06 2.06-.94-2.06-.94L8.5 2.5l-.94 2.06-2.06.94zm10 10l.94 2.06.94-2.06 2.06-.94-2.06-.94-.94-2.06-.94 2.06-2.06.94z\"/><path d=\"M17.41 7.96l-1.37-1.37c-.4-.4-.92-.59-1.43-.59-.52 0-1.04.2-1.43.59L10.3 9.45l-7.72 7.72c-.78.78-.78 2.05 0 2.83L4 21.41c.39.39.9.59 1.41.59.51 0 1.02-.2 1.41-.59l7.78-7.78 2.81-2.81c.8-.78.8-2.07 0-2.86zM5.41 20L4 18.59l7.72-7.72 1.47 1.35L5.41 20z\"/>\n",
              "  </svg>\n",
              "      </button>\n",
              "      \n",
              "  <style>\n",
              "    .colab-df-container {\n",
              "      display:flex;\n",
              "      flex-wrap:wrap;\n",
              "      gap: 12px;\n",
              "    }\n",
              "\n",
              "    .colab-df-convert {\n",
              "      background-color: #E8F0FE;\n",
              "      border: none;\n",
              "      border-radius: 50%;\n",
              "      cursor: pointer;\n",
              "      display: none;\n",
              "      fill: #1967D2;\n",
              "      height: 32px;\n",
              "      padding: 0 0 0 0;\n",
              "      width: 32px;\n",
              "    }\n",
              "\n",
              "    .colab-df-convert:hover {\n",
              "      background-color: #E2EBFA;\n",
              "      box-shadow: 0px 1px 2px rgba(60, 64, 67, 0.3), 0px 1px 3px 1px rgba(60, 64, 67, 0.15);\n",
              "      fill: #174EA6;\n",
              "    }\n",
              "\n",
              "    [theme=dark] .colab-df-convert {\n",
              "      background-color: #3B4455;\n",
              "      fill: #D2E3FC;\n",
              "    }\n",
              "\n",
              "    [theme=dark] .colab-df-convert:hover {\n",
              "      background-color: #434B5C;\n",
              "      box-shadow: 0px 1px 3px 1px rgba(0, 0, 0, 0.15);\n",
              "      filter: drop-shadow(0px 1px 2px rgba(0, 0, 0, 0.3));\n",
              "      fill: #FFFFFF;\n",
              "    }\n",
              "  </style>\n",
              "\n",
              "      <script>\n",
              "        const buttonEl =\n",
              "          document.querySelector('#df-5b56a952-664c-497d-a0d7-3eff1e6cdfcc button.colab-df-convert');\n",
              "        buttonEl.style.display =\n",
              "          google.colab.kernel.accessAllowed ? 'block' : 'none';\n",
              "\n",
              "        async function convertToInteractive(key) {\n",
              "          const element = document.querySelector('#df-5b56a952-664c-497d-a0d7-3eff1e6cdfcc');\n",
              "          const dataTable =\n",
              "            await google.colab.kernel.invokeFunction('convertToInteractive',\n",
              "                                                     [key], {});\n",
              "          if (!dataTable) return;\n",
              "\n",
              "          const docLinkHtml = 'Like what you see? Visit the ' +\n",
              "            '<a target=\"_blank\" href=https://colab.research.google.com/notebooks/data_table.ipynb>data table notebook</a>'\n",
              "            + ' to learn more about interactive tables.';\n",
              "          element.innerHTML = '';\n",
              "          dataTable['output_type'] = 'display_data';\n",
              "          await google.colab.output.renderOutput(dataTable, element);\n",
              "          const docLink = document.createElement('div');\n",
              "          docLink.innerHTML = docLinkHtml;\n",
              "          element.appendChild(docLink);\n",
              "        }\n",
              "      </script>\n",
              "    </div>\n",
              "  </div>\n",
              "  "
            ]
          },
          "metadata": {},
          "execution_count": 3
        }
      ]
    },
    {
      "cell_type": "code",
      "source": [
        "# Dataset Rows & Columns\n",
        "cardio_df.shape"
      ],
      "metadata": {
        "colab": {
          "base_uri": "https://localhost:8080/"
        },
        "id": "_qsyKdALStJN",
        "outputId": "a59c31fd-8e00-46c7-a3a7-3e4e5427f69b"
      },
      "execution_count": 4,
      "outputs": [
        {
          "output_type": "execute_result",
          "data": {
            "text/plain": [
              "(3390, 16)"
            ]
          },
          "metadata": {},
          "execution_count": 4
        }
      ]
    },
    {
      "cell_type": "code",
      "source": [
        "# Dataset Info\n",
        "cardio_df.info()"
      ],
      "metadata": {
        "colab": {
          "base_uri": "https://localhost:8080/"
        },
        "id": "xLRwd4fmSW36",
        "outputId": "ad10bfe9-884f-4e74-ca96-ebdd709bee20"
      },
      "execution_count": 5,
      "outputs": [
        {
          "output_type": "stream",
          "name": "stdout",
          "text": [
            "<class 'pandas.core.frame.DataFrame'>\n",
            "Int64Index: 3390 entries, 0 to 3389\n",
            "Data columns (total 16 columns):\n",
            " #   Column           Non-Null Count  Dtype  \n",
            "---  ------           --------------  -----  \n",
            " 0   age              3390 non-null   int64  \n",
            " 1   education        3303 non-null   float64\n",
            " 2   sex              3390 non-null   object \n",
            " 3   is_smoking       3390 non-null   object \n",
            " 4   cigsPerDay       3368 non-null   float64\n",
            " 5   BPMeds           3346 non-null   float64\n",
            " 6   prevalentStroke  3390 non-null   int64  \n",
            " 7   prevalentHyp     3390 non-null   int64  \n",
            " 8   diabetes         3390 non-null   int64  \n",
            " 9   totChol          3352 non-null   float64\n",
            " 10  sysBP            3390 non-null   float64\n",
            " 11  diaBP            3390 non-null   float64\n",
            " 12  BMI              3376 non-null   float64\n",
            " 13  heartRate        3389 non-null   float64\n",
            " 14  glucose          3086 non-null   float64\n",
            " 15  TenYearCHD       3390 non-null   int64  \n",
            "dtypes: float64(9), int64(5), object(2)\n",
            "memory usage: 450.2+ KB\n"
          ]
        }
      ]
    },
    {
      "cell_type": "markdown",
      "source": [
        "## **3.1. Variable Description:**\n",
        "\n",
        "**Demographic:**\n",
        "* Sex: male or female (\"M\" or \"F\")\n",
        "* Age: Age of the patient (Continuous - Although the recorded ages have been truncated to whole numbers, the concept of age is continuous)\n",
        "* Education: The level of education of the patient (categorical values - 1,2,3,4)\n",
        "\n",
        "**Behavioral:**\n",
        "* is_smoking: whether or not the patient is a current smoker (\"YES\" or \"NO\")\n",
        "* Cigs Per Day: the number of cigarettes that the person smoked on average in one day.(can be considered continuous as one can have any number of cigarettes, even half a cigarette.)\n",
        "\n",
        "**Medical (history):**\n",
        "* BP Meds: whether or not the patient was on blood pressure medication (Nominal)\n",
        "* Prevalent Stroke: whether or not the patient had previously had a stroke (Nominal)\n",
        "* Prevalent Hyp: whether or not the patient was hypertensive (Nominal)\n",
        "* Diabetes: whether or not the patient had diabetes (Nominal)\n",
        "\n",
        "**Medical (current):**\n",
        "* Tot Chol: total cholesterol level (Continuous)\n",
        "* Sys BP: systolic blood pressure (Continuous)\n",
        "* Dia BP: diastolic blood pressure (Continuous)\n",
        "* BMI: Body Mass Index (Continuous)\n",
        "* Heart Rate: heart rate (Continuous - In medical research, variables such as heart rate though in fact discrete, yet are considered continuous because of large number of possible values.)\n",
        "* Glucose: glucose level (Continuous)\n",
        "\n",
        "**Predict variable (desired target):**\n",
        "* 10-year risk of coronary heart disease CHD(binary: “1”, means “Yes”, “0” means “No”)"
      ],
      "metadata": {
        "id": "SksNB50bT7DH"
      }
    },
    {
      "cell_type": "code",
      "source": [
        "# checking duplicates\n",
        "len(cardio_df[cardio_df.duplicated()])"
      ],
      "metadata": {
        "colab": {
          "base_uri": "https://localhost:8080/"
        },
        "id": "tu8YY5H8TYUH",
        "outputId": "a144b64b-0a9b-42a2-aea7-828573f46f45"
      },
      "execution_count": 6,
      "outputs": [
        {
          "output_type": "execute_result",
          "data": {
            "text/plain": [
              "0"
            ]
          },
          "metadata": {},
          "execution_count": 6
        }
      ]
    },
    {
      "cell_type": "code",
      "source": [
        "# checking null values\n",
        "null_count = cardio_df.isna().sum()\n",
        "null_count.sum()\n"
      ],
      "metadata": {
        "id": "biUdWLbQUFNT",
        "colab": {
          "base_uri": "https://localhost:8080/"
        },
        "outputId": "6dd51306-15ec-426b-a7a4-eb783faa9b9c"
      },
      "execution_count": 7,
      "outputs": [
        {
          "output_type": "execute_result",
          "data": {
            "text/plain": [
              "510"
            ]
          },
          "metadata": {},
          "execution_count": 7
        }
      ]
    },
    {
      "cell_type": "code",
      "source": [
        "# Visualizing the missing values\n",
        "# Checking Null Value by plotting Heatmap\n",
        "plt.figure(figsize = (14,5))\n",
        "sns.barplot(x = null_count.index, y = null_count.values )\n",
        "# Rotate the x-axis labels for better visibility\n",
        "plt.xticks(rotation=90)\n",
        "# Display the plot\n",
        "plt.show()\n",
        "\n"
      ],
      "metadata": {
        "colab": {
          "base_uri": "https://localhost:8080/",
          "height": 557
        },
        "id": "BHXhvkRBLIki",
        "outputId": "678b8aa6-0d91-4825-b111-640b7e485886"
      },
      "execution_count": 8,
      "outputs": [
        {
          "output_type": "display_data",
          "data": {
            "text/plain": [
              "<Figure size 1400x500 with 1 Axes>"
            ],
            "image/png": "[encoded data removed]"
          },
          "metadata": {}
        }
      ]
    },
    {
      "cell_type": "markdown",
      "source": [
        "* The dataset is from an ongoing cardiovascular study on residents of the town of Framingham, Massachusetts. The classification goal is to predict whether the patient has a 10-year risk of future coronary heart disease (CHD).\n",
        "* The dataset provides the patients’ information. Each attribute is a potential risk factor. There are demographic, behavioral, and medical risk factors.\n",
        "* **The dataset contains 3390 rows and 16 columns. There are no duplicate records, and contains 510 missing values.**"
      ],
      "metadata": {
        "id": "3zRHuPapOfns"
      }
    },
    {
      "cell_type": "markdown",
      "source": [
        "# **4. Data Cleaning:**"
      ],
      "metadata": {
        "id": "X1DNalQ4OuS0"
      }
    },
    {
      "cell_type": "code",
      "source": [
        "# Dataset Columns\n",
        "cardio_df.columns"
      ],
      "metadata": {
        "colab": {
          "base_uri": "https://localhost:8080/"
        },
        "id": "JYuLXPY_Otj2",
        "outputId": "f3ad042b-32d5-49b7-929e-9b8f11b2699e"
      },
      "execution_count": 9,
      "outputs": [
        {
          "output_type": "execute_result",
          "data": {
            "text/plain": [
              "Index(['age', 'education', 'sex', 'is_smoking', 'cigsPerDay', 'BPMeds',\n",
              "       'prevalentStroke', 'prevalentHyp', 'diabetes', 'totChol', 'sysBP',\n",
              "       'diaBP', 'BMI', 'heartRate', 'glucose', 'TenYearCHD'],\n",
              "      dtype='object')"
            ]
          },
          "metadata": {},
          "execution_count": 9
        }
      ]
    },
    {
      "cell_type": "code",
      "source": [
        "# Dataset Describe\n",
        "cardio_df.describe(include = 'all')"
      ],
      "metadata": {
        "colab": {
          "base_uri": "https://localhost:8080/",
          "height": 458
        },
        "id": "GjyDxnhoMLmF",
        "outputId": "f0c464ab-f0a9-42f5-d706-d171d6ff5f12"
      },
      "execution_count": 10,
      "outputs": [
        {
          "output_type": "execute_result",
          "data": {
            "text/plain": [
              "                age    education   sex is_smoking   cigsPerDay       BPMeds  \\\n",
              "count   3390.000000  3303.000000  3390       3390  3368.000000  3346.000000   \n",
              "unique          NaN          NaN     2          2          NaN          NaN   \n",
              "top             NaN          NaN     F         NO          NaN          NaN   \n",
              "freq            NaN          NaN  1923       1703          NaN          NaN   \n",
              "mean      49.542183     1.970936   NaN        NaN     9.069477     0.029886   \n",
              "std        8.592878     1.019081   NaN        NaN    11.879078     0.170299   \n",
              "min       32.000000     1.000000   NaN        NaN     0.000000     0.000000   \n",
              "25%       42.000000     1.000000   NaN        NaN     0.000000     0.000000   \n",
              "50%       49.000000     2.000000   NaN        NaN     0.000000     0.000000   \n",
              "75%       56.000000     3.000000   NaN        NaN    20.000000     0.000000   \n",
              "max       70.000000     4.000000   NaN        NaN    70.000000     1.000000   \n",
              "\n",
              "        prevalentStroke  prevalentHyp     diabetes      totChol       sysBP  \\\n",
              "count       3390.000000   3390.000000  3390.000000  3352.000000  3390.00000   \n",
              "unique              NaN           NaN          NaN          NaN         NaN   \n",
              "top                 NaN           NaN          NaN          NaN         NaN   \n",
              "freq                NaN           NaN          NaN          NaN         NaN   \n",
              "mean           0.006490      0.315339     0.025664   237.074284   132.60118   \n",
              "std            0.080309      0.464719     0.158153    45.247430    22.29203   \n",
              "min            0.000000      0.000000     0.000000   107.000000    83.50000   \n",
              "25%            0.000000      0.000000     0.000000   206.000000   117.00000   \n",
              "50%            0.000000      0.000000     0.000000   234.000000   128.50000   \n",
              "75%            0.000000      1.000000     0.000000   264.000000   144.00000   \n",
              "max            1.000000      1.000000     1.000000   696.000000   295.00000   \n",
              "\n",
              "              diaBP          BMI    heartRate      glucose   TenYearCHD  \n",
              "count   3390.000000  3376.000000  3389.000000  3086.000000  3390.000000  \n",
              "unique          NaN          NaN          NaN          NaN          NaN  \n",
              "top             NaN          NaN          NaN          NaN          NaN  \n",
              "freq            NaN          NaN          NaN          NaN          NaN  \n",
              "mean      82.883038    25.794964    75.977279    82.086520     0.150737  \n",
              "std       12.023581     4.115449    11.971868    24.244753     0.357846  \n",
              "min       48.000000    15.960000    45.000000    40.000000     0.000000  \n",
              "25%       74.500000    23.020000    68.000000    71.000000     0.000000  \n",
              "50%       82.000000    25.380000    75.000000    78.000000     0.000000  \n",
              "75%       90.000000    28.040000    83.000000    87.000000     0.000000  \n",
              "max      142.500000    56.800000   143.000000   394.000000     1.000000  "
            ],
            "text/html": [
              "\n",
              "  <div id=\"df-ff5f18e3-abc7-4dd2-a90c-7809f9495605\">\n",
              "    <div class=\"colab-df-container\">\n",
              "      <div>\n",
              "<style scoped>\n",
              "    .dataframe tbody tr th:only-of-type {\n",
              "        vertical-align: middle;\n",
              "    }\n",
              "\n",
              "    .dataframe tbody tr th {\n",
              "        vertical-align: top;\n",
              "    }\n",
              "\n",
              "    .dataframe thead th {\n",
              "        text-align: right;\n",
              "    }\n",
              "</style>\n",
              "<table border=\"1\" class=\"dataframe\">\n",
              "  <thead>\n",
              "    <tr style=\"text-align: right;\">\n",
              "      <th></th>\n",
              "      <th>age</th>\n",
              "      <th>education</th>\n",
              "      <th>sex</th>\n",
              "      <th>is_smoking</th>\n",
              "      <th>cigsPerDay</th>\n",
              "      <th>BPMeds</th>\n",
              "      <th>prevalentStroke</th>\n",
              "      <th>prevalentHyp</th>\n",
              "      <th>diabetes</th>\n",
              "      <th>totChol</th>\n",
              "      <th>sysBP</th>\n",
              "      <th>diaBP</th>\n",
              "      <th>BMI</th>\n",
              "      <th>heartRate</th>\n",
              "      <th>glucose</th>\n",
              "      <th>TenYearCHD</th>\n",
              "    </tr>\n",
              "  </thead>\n",
              "  <tbody>\n",
              "    <tr>\n",
              "      <th>count</th>\n",
              "      <td>3390.000000</td>\n",
              "      <td>3303.000000</td>\n",
              "      <td>3390</td>\n",
              "      <td>3390</td>\n",
              "      <td>3368.000000</td>\n",
              "      <td>3346.000000</td>\n",
              "      <td>3390.000000</td>\n",
              "      <td>3390.000000</td>\n",
              "      <td>3390.000000</td>\n",
              "      <td>3352.000000</td>\n",
              "      <td>3390.00000</td>\n",
              "      <td>3390.000000</td>\n",
              "      <td>3376.000000</td>\n",
              "      <td>3389.000000</td>\n",
              "      <td>3086.000000</td>\n",
              "      <td>3390.000000</td>\n",
              "    </tr>\n",
              "    <tr>\n",
              "      <th>unique</th>\n",
              "      <td>NaN</td>\n",
              "      <td>NaN</td>\n",
              "      <td>2</td>\n",
              "      <td>2</td>\n",
              "      <td>NaN</td>\n",
              "      <td>NaN</td>\n",
              "      <td>NaN</td>\n",
              "      <td>NaN</td>\n",
              "      <td>NaN</td>\n",
              "      <td>NaN</td>\n",
              "      <td>NaN</td>\n",
              "      <td>NaN</td>\n",
              "      <td>NaN</td>\n",
              "      <td>NaN</td>\n",
              "      <td>NaN</td>\n",
              "      <td>NaN</td>\n",
              "    </tr>\n",
              "    <tr>\n",
              "      <th>top</th>\n",
              "      <td>NaN</td>\n",
              "      <td>NaN</td>\n",
              "      <td>F</td>\n",
              "      <td>NO</td>\n",
              "      <td>NaN</td>\n",
              "      <td>NaN</td>\n",
              "      <td>NaN</td>\n",
              "      <td>NaN</td>\n",
              "      <td>NaN</td>\n",
              "      <td>NaN</td>\n",
              "      <td>NaN</td>\n",
              "      <td>NaN</td>\n",
              "      <td>NaN</td>\n",
              "      <td>NaN</td>\n",
              "      <td>NaN</td>\n",
              "      <td>NaN</td>\n",
              "    </tr>\n",
              "    <tr>\n",
              "      <th>freq</th>\n",
              "      <td>NaN</td>\n",
              "      <td>NaN</td>\n",
              "      <td>1923</td>\n",
              "      <td>1703</td>\n",
              "      <td>NaN</td>\n",
              "      <td>NaN</td>\n",
              "      <td>NaN</td>\n",
              "      <td>NaN</td>\n",
              "      <td>NaN</td>\n",
              "      <td>NaN</td>\n",
              "      <td>NaN</td>\n",
              "      <td>NaN</td>\n",
              "      <td>NaN</td>\n",
              "      <td>NaN</td>\n",
              "      <td>NaN</td>\n",
              "      <td>NaN</td>\n",
              "    </tr>\n",
              "    <tr>\n",
              "      <th>mean</th>\n",
              "      <td>49.542183</td>\n",
              "      <td>1.970936</td>\n",
              "      <td>NaN</td>\n",
              "      <td>NaN</td>\n",
              "      <td>9.069477</td>\n",
              "      <td>0.029886</td>\n",
              "      <td>0.006490</td>\n",
              "      <td>0.315339</td>\n",
              "      <td>0.025664</td>\n",
              "      <td>237.074284</td>\n",
              "      <td>132.60118</td>\n",
              "      <td>82.883038</td>\n",
              "      <td>25.794964</td>\n",
              "      <td>75.977279</td>\n",
              "      <td>82.086520</td>\n",
              "      <td>0.150737</td>\n",
              "    </tr>\n",
              "    <tr>\n",
              "      <th>std</th>\n",
              "      <td>8.592878</td>\n",
              "      <td>1.019081</td>\n",
              "      <td>NaN</td>\n",
              "      <td>NaN</td>\n",
              "      <td>11.879078</td>\n",
              "      <td>0.170299</td>\n",
              "      <td>0.080309</td>\n",
              "      <td>0.464719</td>\n",
              "      <td>0.158153</td>\n",
              "      <td>45.247430</td>\n",
              "      <td>22.29203</td>\n",
              "      <td>12.023581</td>\n",
              "      <td>4.115449</td>\n",
              "      <td>11.971868</td>\n",
              "      <td>24.244753</td>\n",
              "      <td>0.357846</td>\n",
              "    </tr>\n",
              "    <tr>\n",
              "      <th>min</th>\n",
              "      <td>32.000000</td>\n",
              "      <td>1.000000</td>\n",
              "      <td>NaN</td>\n",
              "      <td>NaN</td>\n",
              "      <td>0.000000</td>\n",
              "      <td>0.000000</td>\n",
              "      <td>0.000000</td>\n",
              "      <td>0.000000</td>\n",
              "      <td>0.000000</td>\n",
              "      <td>107.000000</td>\n",
              "      <td>83.50000</td>\n",
              "      <td>48.000000</td>\n",
              "      <td>15.960000</td>\n",
              "      <td>45.000000</td>\n",
              "      <td>40.000000</td>\n",
              "      <td>0.000000</td>\n",
              "    </tr>\n",
              "    <tr>\n",
              "      <th>25%</th>\n",
              "      <td>42.000000</td>\n",
              "      <td>1.000000</td>\n",
              "      <td>NaN</td>\n",
              "      <td>NaN</td>\n",
              "      <td>0.000000</td>\n",
              "      <td>0.000000</td>\n",
              "      <td>0.000000</td>\n",
              "      <td>0.000000</td>\n",
              "      <td>0.000000</td>\n",
              "      <td>206.000000</td>\n",
              "      <td>117.00000</td>\n",
              "      <td>74.500000</td>\n",
              "      <td>23.020000</td>\n",
              "      <td>68.000000</td>\n",
              "      <td>71.000000</td>\n",
              "      <td>0.000000</td>\n",
              "    </tr>\n",
              "    <tr>\n",
              "      <th>50%</th>\n",
              "      <td>49.000000</td>\n",
              "      <td>2.000000</td>\n",
              "      <td>NaN</td>\n",
              "      <td>NaN</td>\n",
              "      <td>0.000000</td>\n",
              "      <td>0.000000</td>\n",
              "      <td>0.000000</td>\n",
              "      <td>0.000000</td>\n",
              "      <td>0.000000</td>\n",
              "      <td>234.000000</td>\n",
              "      <td>128.50000</td>\n",
              "      <td>82.000000</td>\n",
              "      <td>25.380000</td>\n",
              "      <td>75.000000</td>\n",
              "      <td>78.000000</td>\n",
              "      <td>0.000000</td>\n",
              "    </tr>\n",
              "    <tr>\n",
              "      <th>75%</th>\n",
              "      <td>56.000000</td>\n",
              "      <td>3.000000</td>\n",
              "      <td>NaN</td>\n",
              "      <td>NaN</td>\n",
              "      <td>20.000000</td>\n",
              "      <td>0.000000</td>\n",
              "      <td>0.000000</td>\n",
              "      <td>1.000000</td>\n",
              "      <td>0.000000</td>\n",
              "      <td>264.000000</td>\n",
              "      <td>144.00000</td>\n",
              "      <td>90.000000</td>\n",
              "      <td>28.040000</td>\n",
              "      <td>83.000000</td>\n",
              "      <td>87.000000</td>\n",
              "      <td>0.000000</td>\n",
              "    </tr>\n",
              "    <tr>\n",
              "      <th>max</th>\n",
              "      <td>70.000000</td>\n",
              "      <td>4.000000</td>\n",
              "      <td>NaN</td>\n",
              "      <td>NaN</td>\n",
              "      <td>70.000000</td>\n",
              "      <td>1.000000</td>\n",
              "      <td>1.000000</td>\n",
              "      <td>1.000000</td>\n",
              "      <td>1.000000</td>\n",
              "      <td>696.000000</td>\n",
              "      <td>295.00000</td>\n",
              "      <td>142.500000</td>\n",
              "      <td>56.800000</td>\n",
              "      <td>143.000000</td>\n",
              "      <td>394.000000</td>\n",
              "      <td>1.000000</td>\n",
              "    </tr>\n",
              "  </tbody>\n",
              "</table>\n",
              "</div>\n",
              "      <button class=\"colab-df-convert\" onclick=\"convertToInteractive('df-ff5f18e3-abc7-4dd2-a90c-7809f9495605')\"\n",
              "              title=\"Convert this dataframe to an interactive table.\"\n",
              "              style=\"display:none;\">\n",
              "        \n",
              "  <svg xmlns=\"http://www.w3.org/2000/svg\" height=\"24px\"viewBox=\"0 0 24 24\"\n",
              "       width=\"24px\">\n",
              "    <path d=\"M0 0h24v24H0V0z\" fill=\"none\"/>\n",
              "    <path d=\"M18.56 5.44l.94 2.06.94-2.06 2.06-.94-2.06-.94-.94-2.06-.94 2.06-2.06.94zm-11 1L8.5 8.5l.94-2.06 2.06-.94-2.06-.94L8.5 2.5l-.94 2.06-2.06.94zm10 10l.94 2.06.94-2.06 2.06-.94-2.06-.94-.94-2.06-.94 2.06-2.06.94z\"/><path d=\"M17.41 7.96l-1.37-1.37c-.4-.4-.92-.59-1.43-.59-.52 0-1.04.2-1.43.59L10.3 9.45l-7.72 7.72c-.78.78-.78 2.05 0 2.83L4 21.41c.39.39.9.59 1.41.59.51 0 1.02-.2 1.41-.59l7.78-7.78 2.81-2.81c.8-.78.8-2.07 0-2.86zM5.41 20L4 18.59l7.72-7.72 1.47 1.35L5.41 20z\"/>\n",
              "  </svg>\n",
              "      </button>\n",
              "      \n",
              "  <style>\n",
              "    .colab-df-container {\n",
              "      display:flex;\n",
              "      flex-wrap:wrap;\n",
              "      gap: 12px;\n",
              "    }\n",
              "\n",
              "    .colab-df-convert {\n",
              "      background-color: #E8F0FE;\n",
              "      border: none;\n",
              "      border-radius: 50%;\n",
              "      cursor: pointer;\n",
              "      display: none;\n",
              "      fill: #1967D2;\n",
              "      height: 32px;\n",
              "      padding: 0 0 0 0;\n",
              "      width: 32px;\n",
              "    }\n",
              "\n",
              "    .colab-df-convert:hover {\n",
              "      background-color: #E2EBFA;\n",
              "      box-shadow: 0px 1px 2px rgba(60, 64, 67, 0.3), 0px 1px 3px 1px rgba(60, 64, 67, 0.15);\n",
              "      fill: #174EA6;\n",
              "    }\n",
              "\n",
              "    [theme=dark] .colab-df-convert {\n",
              "      background-color: #3B4455;\n",
              "      fill: #D2E3FC;\n",
              "    }\n",
              "\n",
              "    [theme=dark] .colab-df-convert:hover {\n",
              "      background-color: #434B5C;\n",
              "      box-shadow: 0px 1px 3px 1px rgba(0, 0, 0, 0.15);\n",
              "      filter: drop-shadow(0px 1px 2px rgba(0, 0, 0, 0.3));\n",
              "      fill: #FFFFFF;\n",
              "    }\n",
              "  </style>\n",
              "\n",
              "      <script>\n",
              "        const buttonEl =\n",
              "          document.querySelector('#df-ff5f18e3-abc7-4dd2-a90c-7809f9495605 button.colab-df-convert');\n",
              "        buttonEl.style.display =\n",
              "          google.colab.kernel.accessAllowed ? 'block' : 'none';\n",
              "\n",
              "        async function convertToInteractive(key) {\n",
              "          const element = document.querySelector('#df-ff5f18e3-abc7-4dd2-a90c-7809f9495605');\n",
              "          const dataTable =\n",
              "            await google.colab.kernel.invokeFunction('convertToInteractive',\n",
              "                                                     [key], {});\n",
              "          if (!dataTable) return;\n",
              "\n",
              "          const docLinkHtml = 'Like what you see? Visit the ' +\n",
              "            '<a target=\"_blank\" href=https://colab.research.google.com/notebooks/data_table.ipynb>data table notebook</a>'\n",
              "            + ' to learn more about interactive tables.';\n",
              "          element.innerHTML = '';\n",
              "          dataTable['output_type'] = 'display_data';\n",
              "          await google.colab.output.renderOutput(dataTable, element);\n",
              "          const docLink = document.createElement('div');\n",
              "          docLink.innerHTML = docLinkHtml;\n",
              "          element.appendChild(docLink);\n",
              "        }\n",
              "      </script>\n",
              "    </div>\n",
              "  </div>\n",
              "  "
            ]
          },
          "metadata": {},
          "execution_count": 10
        }
      ]
    },
    {
      "cell_type": "code",
      "source": [
        "# Renaming the columns\n",
        "cardio_df.rename(columns={'cigsPerDay':'cigs_per_day','BPMeds':'bp_meds',\n",
        "                   'prevalentStroke':'prevalent_stroke','prevalentHyp':'prevalent_hyp',\n",
        "                   'totChol':'total_cholesterol','sysBP':'systolic_bp','diaBP':'diastolic_bp',\n",
        "                   'BMI':'bmi','heartRate':'heart_rate','TenYearCHD':'ten_year_chd'},\n",
        "          inplace = True)"
      ],
      "metadata": {
        "id": "x2ZLvcP_PD2L"
      },
      "execution_count": 11,
      "outputs": []
    },
    {
      "cell_type": "code",
      "source": [
        "# Check Unique Value for each feature\n",
        "for i in cardio_df.columns:\n",
        "  print(\"Unique value in\",i,\":\", cardio_df[i].nunique())\n"
      ],
      "metadata": {
        "colab": {
          "base_uri": "https://localhost:8080/"
        },
        "id": "d9EQsixPPewz",
        "outputId": "cb346ac1-7641-40b9-8990-3b87729df03d"
      },
      "execution_count": 12,
      "outputs": [
        {
          "output_type": "stream",
          "name": "stdout",
          "text": [
            "Unique value in age : 39\n",
            "Unique value in education : 4\n",
            "Unique value in sex : 2\n",
            "Unique value in is_smoking : 2\n",
            "Unique value in cigs_per_day : 32\n",
            "Unique value in bp_meds : 2\n",
            "Unique value in prevalent_stroke : 2\n",
            "Unique value in prevalent_hyp : 2\n",
            "Unique value in diabetes : 2\n",
            "Unique value in total_cholesterol : 240\n",
            "Unique value in systolic_bp : 226\n",
            "Unique value in diastolic_bp : 142\n",
            "Unique value in bmi : 1259\n",
            "Unique value in heart_rate : 68\n",
            "Unique value in glucose : 132\n",
            "Unique value in ten_year_chd : 2\n"
          ]
        }
      ]
    },
    {
      "cell_type": "code",
      "source": [
        "# Defining 3 lists containing the column names of\n",
        "# a. dependent variables\n",
        "# b. continuous independent variables\n",
        "# c. categorical independent variables\n",
        "# This is defined based on the number of unique values for each attribute\n",
        "\n",
        "dependent_var = ['ten_year_chd']\n",
        "continuous_var = ['age','cigs_per_day','total_cholesterol','systolic_bp', 'diastolic_bp', 'bmi', 'heart_rate', 'glucose']\n",
        "categorical_var = ['education', 'sex', 'is_smoking','bp_meds','prevalent_stroke', 'prevalent_hyp', 'diabetes']"
      ],
      "metadata": {
        "id": "IDkL5_c6P_3f"
      },
      "execution_count": 13,
      "outputs": []
    },
    {
      "cell_type": "code",
      "source": [
        "# Encoding the binary columns\n",
        "\n",
        "cardio_df['sex'] = np.where(cardio_df['sex'] == 'M',1,0)\n",
        "cardio_df['is_smoking'] = np.where(cardio_df['is_smoking'] == 'YES',1,0)"
      ],
      "metadata": {
        "id": "YoKs7I4_Q1rC"
      },
      "execution_count": 14,
      "outputs": []
    },
    {
      "cell_type": "code",
      "source": [
        "print(cardio_df['sex'].value_counts())\n",
        "print(cardio_df['is_smoking'].value_counts())"
      ],
      "metadata": {
        "colab": {
          "base_uri": "https://localhost:8080/"
        },
        "id": "yXA99nHgREC8",
        "outputId": "c2e2614a-1574-477f-b518-47b8fedf9d15"
      },
      "execution_count": 15,
      "outputs": [
        {
          "output_type": "stream",
          "name": "stdout",
          "text": [
            "0    1923\n",
            "1    1467\n",
            "Name: sex, dtype: int64\n",
            "0    1703\n",
            "1    1687\n",
            "Name: is_smoking, dtype: int64\n"
          ]
        }
      ]
    },
    {
      "cell_type": "markdown",
      "source": [
        "# **5. Handling missing data:**"
      ],
      "metadata": {
        "id": "CL--0fCZiMcy"
      }
    },
    {
      "cell_type": "code",
      "source": [
        "# checking for null values\n",
        "cardio_df.isna().sum()"
      ],
      "metadata": {
        "id": "DuUlEcwjRMLU",
        "colab": {
          "base_uri": "https://localhost:8080/"
        },
        "outputId": "815cc642-4b75-44c2-f2b3-5f9048b712fe"
      },
      "execution_count": 16,
      "outputs": [
        {
          "output_type": "execute_result",
          "data": {
            "text/plain": [
              "age                    0\n",
              "education             87\n",
              "sex                    0\n",
              "is_smoking             0\n",
              "cigs_per_day          22\n",
              "bp_meds               44\n",
              "prevalent_stroke       0\n",
              "prevalent_hyp          0\n",
              "diabetes               0\n",
              "total_cholesterol     38\n",
              "systolic_bp            0\n",
              "diastolic_bp           0\n",
              "bmi                   14\n",
              "heart_rate             1\n",
              "glucose              304\n",
              "ten_year_chd           0\n",
              "dtype: int64"
            ]
          },
          "metadata": {},
          "execution_count": 16
        }
      ]
    },
    {
      "cell_type": "code",
      "source": [
        "# total null values\n",
        "cardio_df.isna().sum().sum()"
      ],
      "metadata": {
        "colab": {
          "base_uri": "https://localhost:8080/"
        },
        "id": "PdxoSzqtiSjn",
        "outputId": "e50f8530-6b78-47c1-9fcf-da9d0c69ec03"
      },
      "execution_count": 17,
      "outputs": [
        {
          "output_type": "execute_result",
          "data": {
            "text/plain": [
              "510"
            ]
          },
          "metadata": {},
          "execution_count": 17
        }
      ]
    },
    {
      "cell_type": "markdown",
      "source": [
        "**There are a total of 510 missing values in the dataset.**"
      ],
      "metadata": {
        "id": "loR5LWXKiemw"
      }
    },
    {
      "cell_type": "markdown",
      "source": [
        "## **5.1. Replacing the missing values in the categorical columns with the most frequent entry:**"
      ],
      "metadata": {
        "id": "m-lzvvUhihtk"
      }
    },
    {
      "cell_type": "code",
      "source": [
        "# Replacing the missing values in the categorical columns with its mode\n",
        "cardio_df['education'] = cardio_df['education'].fillna(cardio_df['education'].mode()[0])\n",
        "cardio_df['bp_meds'] = cardio_df['bp_meds'].fillna(cardio_df['bp_meds'].mode()[0])"
      ],
      "metadata": {
        "id": "v-7phm1piW5Q"
      },
      "execution_count": 18,
      "outputs": []
    },
    {
      "cell_type": "code",
      "source": [
        "# education distribution after mode imputation\n",
        "cardio_df['education'].value_counts()"
      ],
      "metadata": {
        "colab": {
          "base_uri": "https://localhost:8080/"
        },
        "id": "hjMKag4Yi6ah",
        "outputId": "f191c54d-65ef-48d5-e4f4-eddedd36c7db"
      },
      "execution_count": 19,
      "outputs": [
        {
          "output_type": "execute_result",
          "data": {
            "text/plain": [
              "1.0    1478\n",
              "2.0     990\n",
              "3.0     549\n",
              "4.0     373\n",
              "Name: education, dtype: int64"
            ]
          },
          "metadata": {},
          "execution_count": 19
        }
      ]
    },
    {
      "cell_type": "code",
      "source": [
        "# bp_meds distribution after mode imputation\n",
        "cardio_df['bp_meds'].value_counts()"
      ],
      "metadata": {
        "colab": {
          "base_uri": "https://localhost:8080/"
        },
        "id": "1PBa8_DClOgA",
        "outputId": "f1721e72-9038-4385-e416-0316ee4173f9"
      },
      "execution_count": 20,
      "outputs": [
        {
          "output_type": "execute_result",
          "data": {
            "text/plain": [
              "0.0    3290\n",
              "1.0     100\n",
              "Name: bp_meds, dtype: int64"
            ]
          },
          "metadata": {},
          "execution_count": 20
        }
      ]
    },
    {
      "cell_type": "markdown",
      "source": [
        "## **5.2. cigs_per_day:**"
      ],
      "metadata": {
        "id": "TD7LnEY7ll-L"
      }
    },
    {
      "cell_type": "code",
      "source": [
        "# Mean and median number of cigarettes per day\n",
        "print(cardio_df.cigs_per_day.mean().round(0))\n",
        "print(cardio_df.cigs_per_day.median())"
      ],
      "metadata": {
        "colab": {
          "base_uri": "https://localhost:8080/"
        },
        "id": "S7zHvQoblgvP",
        "outputId": "10dee1ea-788d-4db0-afcf-f76fc75a688b"
      },
      "execution_count": 21,
      "outputs": [
        {
          "output_type": "stream",
          "name": "stdout",
          "text": [
            "9.0\n",
            "0.0\n"
          ]
        }
      ]
    },
    {
      "cell_type": "code",
      "source": [
        "# All missing values in the cigs_per_day column\n",
        "cardio_df[cardio_df['cigs_per_day'].isna()]"
      ],
      "metadata": {
        "colab": {
          "base_uri": "https://localhost:8080/",
          "height": 834
        },
        "id": "xfI0MaaBlv8T",
        "outputId": "39c501ac-2f7d-4cc7-e83d-6f5c7980279c"
      },
      "execution_count": 22,
      "outputs": [
        {
          "output_type": "execute_result",
          "data": {
            "text/plain": [
              "      age  education  sex  is_smoking  cigs_per_day  bp_meds  \\\n",
              "id                                                             \n",
              "422    55        1.0    0           1           NaN      0.0   \n",
              "466    45        3.0    1           1           NaN      0.0   \n",
              "469    42        1.0    1           1           NaN      0.0   \n",
              "491    61        1.0    0           1           NaN      0.0   \n",
              "538    41        1.0    0           1           NaN      0.0   \n",
              "767    54        1.0    1           1           NaN      0.0   \n",
              "1461   47        2.0    0           1           NaN      0.0   \n",
              "1467   49        1.0    0           1           NaN      0.0   \n",
              "1597   57        1.0    0           1           NaN      0.0   \n",
              "1986   49        2.0    0           1           NaN      0.0   \n",
              "2031   58        4.0    0           1           NaN      0.0   \n",
              "2087   49        4.0    1           1           NaN      0.0   \n",
              "2240   47        3.0    0           1           NaN      0.0   \n",
              "2284   45        2.0    1           1           NaN      0.0   \n",
              "2527   58        2.0    1           1           NaN      0.0   \n",
              "2638   57        1.0    1           1           NaN      0.0   \n",
              "2648   39        2.0    1           1           NaN      0.0   \n",
              "2723   43        4.0    1           1           NaN      0.0   \n",
              "2879   42        1.0    1           1           NaN      0.0   \n",
              "2945   53        2.0    1           1           NaN      0.0   \n",
              "3301   55        1.0    1           1           NaN      0.0   \n",
              "3378   39        3.0    0           1           NaN      0.0   \n",
              "\n",
              "      prevalent_stroke  prevalent_hyp  diabetes  total_cholesterol  \\\n",
              "id                                                                   \n",
              "422                  0              1         0              213.0   \n",
              "466                  0              1         0              170.0   \n",
              "469                  0              0         0              196.0   \n",
              "491                  0              1         0              356.0   \n",
              "538                  0              0         0              171.0   \n",
              "767                  0              0         0              219.0   \n",
              "1461                 0              0         0              365.0   \n",
              "1467                 0              0         0              252.0   \n",
              "1597                 0              0         0              229.0   \n",
              "1986                 0              1         0              233.0   \n",
              "2031                 0              1         0              270.0   \n",
              "2087                 0              0         0              256.0   \n",
              "2240                 0              0         0              321.0   \n",
              "2284                 0              0         0              248.0   \n",
              "2527                 0              0         0              235.0   \n",
              "2638                 0              0         0              223.0   \n",
              "2648                 0              0         0              285.0   \n",
              "2723                 0              0         0              222.0   \n",
              "2879                 0              0         0              226.0   \n",
              "2945                 0              0         0              276.0   \n",
              "3301                 0              0         0              214.0   \n",
              "3378                 0              0         0              197.0   \n",
              "\n",
              "      systolic_bp  diastolic_bp    bmi  heart_rate  glucose  ten_year_chd  \n",
              "id                                                                         \n",
              "422         163.0          91.0  28.66        69.0     66.0             0  \n",
              "466         145.5          99.0  26.74        83.0     85.0             0  \n",
              "469         123.0          73.0  22.06        66.0      NaN             0  \n",
              "491         168.0          98.0  27.30       103.0    106.0             0  \n",
              "538         135.0          82.5  24.35        79.0     82.0             0  \n",
              "767         110.0          72.0  26.05        95.0     86.0             0  \n",
              "1461        127.0          76.0  24.44        72.0     80.0             0  \n",
              "1467        123.0          69.0  21.45        72.0     89.0             0  \n",
              "1597        115.0          69.0  24.43        80.0     93.0             0  \n",
              "1986        158.0         102.0  25.31        90.0     72.0             0  \n",
              "2031        195.0         117.5  23.35        75.0      NaN             0  \n",
              "2087        127.5          81.5  28.21        93.0     85.0             1  \n",
              "2240        132.0          88.0  28.14        90.0     74.0             0  \n",
              "2284        121.0          72.0  27.88        64.0     88.0             0  \n",
              "2527        127.5          76.0  21.02        81.0    135.0             0  \n",
              "2638        107.5          72.5  24.74        62.0    103.0             0  \n",
              "2648        121.0          82.0  27.62        85.0     65.0             0  \n",
              "2723        109.5          69.0  25.50        75.0      NaN             0  \n",
              "2879        119.0          80.0  25.29        62.0     98.0             0  \n",
              "2945        130.0          86.0  24.21        58.0     82.0             0  \n",
              "3301        132.5          85.5  29.25        70.0    103.0             0  \n",
              "3378        126.5          76.5  19.71        55.0     63.0             0  "
            ],
            "text/html": [
              "\n",
              "  <div id=\"df-e0f40fae-a1cd-4fec-b31b-87b872579714\">\n",
              "    <div class=\"colab-df-container\">\n",
              "      <div>\n",
              "<style scoped>\n",
              "    .dataframe tbody tr th:only-of-type {\n",
              "        vertical-align: middle;\n",
              "    }\n",
              "\n",
              "    .dataframe tbody tr th {\n",
              "        vertical-align: top;\n",
              "    }\n",
              "\n",
              "    .dataframe thead th {\n",
              "        text-align: right;\n",
              "    }\n",
              "</style>\n",
              "<table border=\"1\" class=\"dataframe\">\n",
              "  <thead>\n",
              "    <tr style=\"text-align: right;\">\n",
              "      <th></th>\n",
              "      <th>age</th>\n",
              "      <th>education</th>\n",
              "      <th>sex</th>\n",
              "      <th>is_smoking</th>\n",
              "      <th>cigs_per_day</th>\n",
              "      <th>bp_meds</th>\n",
              "      <th>prevalent_stroke</th>\n",
              "      <th>prevalent_hyp</th>\n",
              "      <th>diabetes</th>\n",
              "      <th>total_cholesterol</th>\n",
              "      <th>systolic_bp</th>\n",
              "      <th>diastolic_bp</th>\n",
              "      <th>bmi</th>\n",
              "      <th>heart_rate</th>\n",
              "      <th>glucose</th>\n",
              "      <th>ten_year_chd</th>\n",
              "    </tr>\n",
              "    <tr>\n",
              "      <th>id</th>\n",
              "      <th></th>\n",
              "      <th></th>\n",
              "      <th></th>\n",
              "      <th></th>\n",
              "      <th></th>\n",
              "      <th></th>\n",
              "      <th></th>\n",
              "      <th></th>\n",
              "      <th></th>\n",
              "      <th></th>\n",
              "      <th></th>\n",
              "      <th></th>\n",
              "      <th></th>\n",
              "      <th></th>\n",
              "      <th></th>\n",
              "      <th></th>\n",
              "    </tr>\n",
              "  </thead>\n",
              "  <tbody>\n",
              "    <tr>\n",
              "      <th>422</th>\n",
              "      <td>55</td>\n",
              "      <td>1.0</td>\n",
              "      <td>0</td>\n",
              "      <td>1</td>\n",
              "      <td>NaN</td>\n",
              "      <td>0.0</td>\n",
              "      <td>0</td>\n",
              "      <td>1</td>\n",
              "      <td>0</td>\n",
              "      <td>213.0</td>\n",
              "      <td>163.0</td>\n",
              "      <td>91.0</td>\n",
              "      <td>28.66</td>\n",
              "      <td>69.0</td>\n",
              "      <td>66.0</td>\n",
              "      <td>0</td>\n",
              "    </tr>\n",
              "    <tr>\n",
              "      <th>466</th>\n",
              "      <td>45</td>\n",
              "      <td>3.0</td>\n",
              "      <td>1</td>\n",
              "      <td>1</td>\n",
              "      <td>NaN</td>\n",
              "      <td>0.0</td>\n",
              "      <td>0</td>\n",
              "      <td>1</td>\n",
              "      <td>0</td>\n",
              "      <td>170.0</td>\n",
              "      <td>145.5</td>\n",
              "      <td>99.0</td>\n",
              "      <td>26.74</td>\n",
              "      <td>83.0</td>\n",
              "      <td>85.0</td>\n",
              "      <td>0</td>\n",
              "    </tr>\n",
              "    <tr>\n",
              "      <th>469</th>\n",
              "      <td>42</td>\n",
              "      <td>1.0</td>\n",
              "      <td>1</td>\n",
              "      <td>1</td>\n",
              "      <td>NaN</td>\n",
              "      <td>0.0</td>\n",
              "      <td>0</td>\n",
              "      <td>0</td>\n",
              "      <td>0</td>\n",
              "      <td>196.0</td>\n",
              "      <td>123.0</td>\n",
              "      <td>73.0</td>\n",
              "      <td>22.06</td>\n",
              "      <td>66.0</td>\n",
              "      <td>NaN</td>\n",
              "      <td>0</td>\n",
              "    </tr>\n",
              "    <tr>\n",
              "      <th>491</th>\n",
              "      <td>61</td>\n",
              "      <td>1.0</td>\n",
              "      <td>0</td>\n",
              "      <td>1</td>\n",
              "      <td>NaN</td>\n",
              "      <td>0.0</td>\n",
              "      <td>0</td>\n",
              "      <td>1</td>\n",
              "      <td>0</td>\n",
              "      <td>356.0</td>\n",
              "      <td>168.0</td>\n",
              "      <td>98.0</td>\n",
              "      <td>27.30</td>\n",
              "      <td>103.0</td>\n",
              "      <td>106.0</td>\n",
              "      <td>0</td>\n",
              "    </tr>\n",
              "    <tr>\n",
              "      <th>538</th>\n",
              "      <td>41</td>\n",
              "      <td>1.0</td>\n",
              "      <td>0</td>\n",
              "      <td>1</td>\n",
              "      <td>NaN</td>\n",
              "      <td>0.0</td>\n",
              "      <td>0</td>\n",
              "      <td>0</td>\n",
              "      <td>0</td>\n",
              "      <td>171.0</td>\n",
              "      <td>135.0</td>\n",
              "      <td>82.5</td>\n",
              "      <td>24.35</td>\n",
              "      <td>79.0</td>\n",
              "      <td>82.0</td>\n",
              "      <td>0</td>\n",
              "    </tr>\n",
              "    <tr>\n",
              "      <th>767</th>\n",
              "      <td>54</td>\n",
              "      <td>1.0</td>\n",
              "      <td>1</td>\n",
              "      <td>1</td>\n",
              "      <td>NaN</td>\n",
              "      <td>0.0</td>\n",
              "      <td>0</td>\n",
              "      <td>0</td>\n",
              "      <td>0</td>\n",
              "      <td>219.0</td>\n",
              "      <td>110.0</td>\n",
              "      <td>72.0</td>\n",
              "      <td>26.05</td>\n",
              "      <td>95.0</td>\n",
              "      <td>86.0</td>\n",
              "      <td>0</td>\n",
              "    </tr>\n",
              "    <tr>\n",
              "      <th>1461</th>\n",
              "      <td>47</td>\n",
              "      <td>2.0</td>\n",
              "      <td>0</td>\n",
              "      <td>1</td>\n",
              "      <td>NaN</td>\n",
              "      <td>0.0</td>\n",
              "      <td>0</td>\n",
              "      <td>0</td>\n",
              "      <td>0</td>\n",
              "      <td>365.0</td>\n",
              "      <td>127.0</td>\n",
              "      <td>76.0</td>\n",
              "      <td>24.44</td>\n",
              "      <td>72.0</td>\n",
              "      <td>80.0</td>\n",
              "      <td>0</td>\n",
              "    </tr>\n",
              "    <tr>\n",
              "      <th>1467</th>\n",
              "      <td>49</td>\n",
              "      <td>1.0</td>\n",
              "      <td>0</td>\n",
              "      <td>1</td>\n",
              "      <td>NaN</td>\n",
              "      <td>0.0</td>\n",
              "      <td>0</td>\n",
              "      <td>0</td>\n",
              "      <td>0</td>\n",
              "      <td>252.0</td>\n",
              "      <td>123.0</td>\n",
              "      <td>69.0</td>\n",
              "      <td>21.45</td>\n",
              "      <td>72.0</td>\n",
              "      <td>89.0</td>\n",
              "      <td>0</td>\n",
              "    </tr>\n",
              "    <tr>\n",
              "      <th>1597</th>\n",
              "      <td>57</td>\n",
              "      <td>1.0</td>\n",
              "      <td>0</td>\n",
              "      <td>1</td>\n",
              "      <td>NaN</td>\n",
              "      <td>0.0</td>\n",
              "      <td>0</td>\n",
              "      <td>0</td>\n",
              "      <td>0</td>\n",
              "      <td>229.0</td>\n",
              "      <td>115.0</td>\n",
              "      <td>69.0</td>\n",
              "      <td>24.43</td>\n",
              "      <td>80.0</td>\n",
              "      <td>93.0</td>\n",
              "      <td>0</td>\n",
              "    </tr>\n",
              "    <tr>\n",
              "      <th>1986</th>\n",
              "      <td>49</td>\n",
              "      <td>2.0</td>\n",
              "      <td>0</td>\n",
              "      <td>1</td>\n",
              "      <td>NaN</td>\n",
              "      <td>0.0</td>\n",
              "      <td>0</td>\n",
              "      <td>1</td>\n",
              "      <td>0</td>\n",
              "      <td>233.0</td>\n",
              "      <td>158.0</td>\n",
              "      <td>102.0</td>\n",
              "      <td>25.31</td>\n",
              "      <td>90.0</td>\n",
              "      <td>72.0</td>\n",
              "      <td>0</td>\n",
              "    </tr>\n",
              "    <tr>\n",
              "      <th>2031</th>\n",
              "      <td>58</td>\n",
              "      <td>4.0</td>\n",
              "      <td>0</td>\n",
              "      <td>1</td>\n",
              "      <td>NaN</td>\n",
              "      <td>0.0</td>\n",
              "      <td>0</td>\n",
              "      <td>1</td>\n",
              "      <td>0</td>\n",
              "      <td>270.0</td>\n",
              "      <td>195.0</td>\n",
              "      <td>117.5</td>\n",
              "      <td>23.35</td>\n",
              "      <td>75.0</td>\n",
              "      <td>NaN</td>\n",
              "      <td>0</td>\n",
              "    </tr>\n",
              "    <tr>\n",
              "      <th>2087</th>\n",
              "      <td>49</td>\n",
              "      <td>4.0</td>\n",
              "      <td>1</td>\n",
              "      <td>1</td>\n",
              "      <td>NaN</td>\n",
              "      <td>0.0</td>\n",
              "      <td>0</td>\n",
              "      <td>0</td>\n",
              "      <td>0</td>\n",
              "      <td>256.0</td>\n",
              "      <td>127.5</td>\n",
              "      <td>81.5</td>\n",
              "      <td>28.21</td>\n",
              "      <td>93.0</td>\n",
              "      <td>85.0</td>\n",
              "      <td>1</td>\n",
              "    </tr>\n",
              "    <tr>\n",
              "      <th>2240</th>\n",
              "      <td>47</td>\n",
              "      <td>3.0</td>\n",
              "      <td>0</td>\n",
              "      <td>1</td>\n",
              "      <td>NaN</td>\n",
              "      <td>0.0</td>\n",
              "      <td>0</td>\n",
              "      <td>0</td>\n",
              "      <td>0</td>\n",
              "      <td>321.0</td>\n",
              "      <td>132.0</td>\n",
              "      <td>88.0</td>\n",
              "      <td>28.14</td>\n",
              "      <td>90.0</td>\n",
              "      <td>74.0</td>\n",
              "      <td>0</td>\n",
              "    </tr>\n",
              "    <tr>\n",
              "      <th>2284</th>\n",
              "      <td>45</td>\n",
              "      <td>2.0</td>\n",
              "      <td>1</td>\n",
              "      <td>1</td>\n",
              "      <td>NaN</td>\n",
              "      <td>0.0</td>\n",
              "      <td>0</td>\n",
              "      <td>0</td>\n",
              "      <td>0</td>\n",
              "      <td>248.0</td>\n",
              "      <td>121.0</td>\n",
              "      <td>72.0</td>\n",
              "      <td>27.88</td>\n",
              "      <td>64.0</td>\n",
              "      <td>88.0</td>\n",
              "      <td>0</td>\n",
              "    </tr>\n",
              "    <tr>\n",
              "      <th>2527</th>\n",
              "      <td>58</td>\n",
              "      <td>2.0</td>\n",
              "      <td>1</td>\n",
              "      <td>1</td>\n",
              "      <td>NaN</td>\n",
              "      <td>0.0</td>\n",
              "      <td>0</td>\n",
              "      <td>0</td>\n",
              "      <td>0</td>\n",
              "      <td>235.0</td>\n",
              "      <td>127.5</td>\n",
              "      <td>76.0</td>\n",
              "      <td>21.02</td>\n",
              "      <td>81.0</td>\n",
              "      <td>135.0</td>\n",
              "      <td>0</td>\n",
              "    </tr>\n",
              "    <tr>\n",
              "      <th>2638</th>\n",
              "      <td>57</td>\n",
              "      <td>1.0</td>\n",
              "      <td>1</td>\n",
              "      <td>1</td>\n",
              "      <td>NaN</td>\n",
              "      <td>0.0</td>\n",
              "      <td>0</td>\n",
              "      <td>0</td>\n",
              "      <td>0</td>\n",
              "      <td>223.0</td>\n",
              "      <td>107.5</td>\n",
              "      <td>72.5</td>\n",
              "      <td>24.74</td>\n",
              "      <td>62.0</td>\n",
              "      <td>103.0</td>\n",
              "      <td>0</td>\n",
              "    </tr>\n",
              "    <tr>\n",
              "      <th>2648</th>\n",
              "      <td>39</td>\n",
              "      <td>2.0</td>\n",
              "      <td>1</td>\n",
              "      <td>1</td>\n",
              "      <td>NaN</td>\n",
              "      <td>0.0</td>\n",
              "      <td>0</td>\n",
              "      <td>0</td>\n",
              "      <td>0</td>\n",
              "      <td>285.0</td>\n",
              "      <td>121.0</td>\n",
              "      <td>82.0</td>\n",
              "      <td>27.62</td>\n",
              "      <td>85.0</td>\n",
              "      <td>65.0</td>\n",
              "      <td>0</td>\n",
              "    </tr>\n",
              "    <tr>\n",
              "      <th>2723</th>\n",
              "      <td>43</td>\n",
              "      <td>4.0</td>\n",
              "      <td>1</td>\n",
              "      <td>1</td>\n",
              "      <td>NaN</td>\n",
              "      <td>0.0</td>\n",
              "      <td>0</td>\n",
              "      <td>0</td>\n",
              "      <td>0</td>\n",
              "      <td>222.0</td>\n",
              "      <td>109.5</td>\n",
              "      <td>69.0</td>\n",
              "      <td>25.50</td>\n",
              "      <td>75.0</td>\n",
              "      <td>NaN</td>\n",
              "      <td>0</td>\n",
              "    </tr>\n",
              "    <tr>\n",
              "      <th>2879</th>\n",
              "      <td>42</td>\n",
              "      <td>1.0</td>\n",
              "      <td>1</td>\n",
              "      <td>1</td>\n",
              "      <td>NaN</td>\n",
              "      <td>0.0</td>\n",
              "      <td>0</td>\n",
              "      <td>0</td>\n",
              "      <td>0</td>\n",
              "      <td>226.0</td>\n",
              "      <td>119.0</td>\n",
              "      <td>80.0</td>\n",
              "      <td>25.29</td>\n",
              "      <td>62.0</td>\n",
              "      <td>98.0</td>\n",
              "      <td>0</td>\n",
              "    </tr>\n",
              "    <tr>\n",
              "      <th>2945</th>\n",
              "      <td>53</td>\n",
              "      <td>2.0</td>\n",
              "      <td>1</td>\n",
              "      <td>1</td>\n",
              "      <td>NaN</td>\n",
              "      <td>0.0</td>\n",
              "      <td>0</td>\n",
              "      <td>0</td>\n",
              "      <td>0</td>\n",
              "      <td>276.0</td>\n",
              "      <td>130.0</td>\n",
              "      <td>86.0</td>\n",
              "      <td>24.21</td>\n",
              "      <td>58.0</td>\n",
              "      <td>82.0</td>\n",
              "      <td>0</td>\n",
              "    </tr>\n",
              "    <tr>\n",
              "      <th>3301</th>\n",
              "      <td>55</td>\n",
              "      <td>1.0</td>\n",
              "      <td>1</td>\n",
              "      <td>1</td>\n",
              "      <td>NaN</td>\n",
              "      <td>0.0</td>\n",
              "      <td>0</td>\n",
              "      <td>0</td>\n",
              "      <td>0</td>\n",
              "      <td>214.0</td>\n",
              "      <td>132.5</td>\n",
              "      <td>85.5</td>\n",
              "      <td>29.25</td>\n",
              "      <td>70.0</td>\n",
              "      <td>103.0</td>\n",
              "      <td>0</td>\n",
              "    </tr>\n",
              "    <tr>\n",
              "      <th>3378</th>\n",
              "      <td>39</td>\n",
              "      <td>3.0</td>\n",
              "      <td>0</td>\n",
              "      <td>1</td>\n",
              "      <td>NaN</td>\n",
              "      <td>0.0</td>\n",
              "      <td>0</td>\n",
              "      <td>0</td>\n",
              "      <td>0</td>\n",
              "      <td>197.0</td>\n",
              "      <td>126.5</td>\n",
              "      <td>76.5</td>\n",
              "      <td>19.71</td>\n",
              "      <td>55.0</td>\n",
              "      <td>63.0</td>\n",
              "      <td>0</td>\n",
              "    </tr>\n",
              "  </tbody>\n",
              "</table>\n",
              "</div>\n",
              "      <button class=\"colab-df-convert\" onclick=\"convertToInteractive('df-e0f40fae-a1cd-4fec-b31b-87b872579714')\"\n",
              "              title=\"Convert this dataframe to an interactive table.\"\n",
              "              style=\"display:none;\">\n",
              "        \n",
              "  <svg xmlns=\"http://www.w3.org/2000/svg\" height=\"24px\"viewBox=\"0 0 24 24\"\n",
              "       width=\"24px\">\n",
              "    <path d=\"M0 0h24v24H0V0z\" fill=\"none\"/>\n",
              "    <path d=\"M18.56 5.44l.94 2.06.94-2.06 2.06-.94-2.06-.94-.94-2.06-.94 2.06-2.06.94zm-11 1L8.5 8.5l.94-2.06 2.06-.94-2.06-.94L8.5 2.5l-.94 2.06-2.06.94zm10 10l.94 2.06.94-2.06 2.06-.94-2.06-.94-.94-2.06-.94 2.06-2.06.94z\"/><path d=\"M17.41 7.96l-1.37-1.37c-.4-.4-.92-.59-1.43-.59-.52 0-1.04.2-1.43.59L10.3 9.45l-7.72 7.72c-.78.78-.78 2.05 0 2.83L4 21.41c.39.39.9.59 1.41.59.51 0 1.02-.2 1.41-.59l7.78-7.78 2.81-2.81c.8-.78.8-2.07 0-2.86zM5.41 20L4 18.59l7.72-7.72 1.47 1.35L5.41 20z\"/>\n",
              "  </svg>\n",
              "      </button>\n",
              "      \n",
              "  <style>\n",
              "    .colab-df-container {\n",
              "      display:flex;\n",
              "      flex-wrap:wrap;\n",
              "      gap: 12px;\n",
              "    }\n",
              "\n",
              "    .colab-df-convert {\n",
              "      background-color: #E8F0FE;\n",
              "      border: none;\n",
              "      border-radius: 50%;\n",
              "      cursor: pointer;\n",
              "      display: none;\n",
              "      fill: #1967D2;\n",
              "      height: 32px;\n",
              "      padding: 0 0 0 0;\n",
              "      width: 32px;\n",
              "    }\n",
              "\n",
              "    .colab-df-convert:hover {\n",
              "      background-color: #E2EBFA;\n",
              "      box-shadow: 0px 1px 2px rgba(60, 64, 67, 0.3), 0px 1px 3px 1px rgba(60, 64, 67, 0.15);\n",
              "      fill: #174EA6;\n",
              "    }\n",
              "\n",
              "    [theme=dark] .colab-df-convert {\n",
              "      background-color: #3B4455;\n",
              "      fill: #D2E3FC;\n",
              "    }\n",
              "\n",
              "    [theme=dark] .colab-df-convert:hover {\n",
              "      background-color: #434B5C;\n",
              "      box-shadow: 0px 1px 3px 1px rgba(0, 0, 0, 0.15);\n",
              "      filter: drop-shadow(0px 1px 2px rgba(0, 0, 0, 0.3));\n",
              "      fill: #FFFFFF;\n",
              "    }\n",
              "  </style>\n",
              "\n",
              "      <script>\n",
              "        const buttonEl =\n",
              "          document.querySelector('#df-e0f40fae-a1cd-4fec-b31b-87b872579714 button.colab-df-convert');\n",
              "        buttonEl.style.display =\n",
              "          google.colab.kernel.accessAllowed ? 'block' : 'none';\n",
              "\n",
              "        async function convertToInteractive(key) {\n",
              "          const element = document.querySelector('#df-e0f40fae-a1cd-4fec-b31b-87b872579714');\n",
              "          const dataTable =\n",
              "            await google.colab.kernel.invokeFunction('convertToInteractive',\n",
              "                                                     [key], {});\n",
              "          if (!dataTable) return;\n",
              "\n",
              "          const docLinkHtml = 'Like what you see? Visit the ' +\n",
              "            '<a target=\"_blank\" href=https://colab.research.google.com/notebooks/data_table.ipynb>data table notebook</a>'\n",
              "            + ' to learn more about interactive tables.';\n",
              "          element.innerHTML = '';\n",
              "          dataTable['output_type'] = 'display_data';\n",
              "          await google.colab.output.renderOutput(dataTable, element);\n",
              "          const docLink = document.createElement('div');\n",
              "          docLink.innerHTML = docLinkHtml;\n",
              "          element.appendChild(docLink);\n",
              "        }\n",
              "      </script>\n",
              "    </div>\n",
              "  </div>\n",
              "  "
            ]
          },
          "metadata": {},
          "execution_count": 22
        }
      ]
    },
    {
      "cell_type": "markdown",
      "source": [
        "**From the above table, we find that for every instance of missing values in cigs per day, the patients reported that they smoke.**"
      ],
      "metadata": {
        "id": "BKZuhuw1mf4R"
      }
    },
    {
      "cell_type": "markdown",
      "source": [
        "Let's check the mean and median number of cigarettes smoked by patients, who reported that they smoke."
      ],
      "metadata": {
        "id": "xwIC8fkzmlBu"
      }
    },
    {
      "cell_type": "code",
      "source": [
        "# mean and median number of cigarettes per day for a smoker (excluding non-smokers)\n",
        "print(cardio_df[cardio_df['is_smoking']==1]['cigs_per_day'].mean().round(3))\n",
        "print(cardio_df[cardio_df['is_smoking']==1]['cigs_per_day'].median())"
      ],
      "metadata": {
        "colab": {
          "base_uri": "https://localhost:8080/"
        },
        "id": "scH9oXCCmEvY",
        "outputId": "95ac30b2-215e-4001-dee3-c90ad099ce19"
      },
      "execution_count": 23,
      "outputs": [
        {
          "output_type": "stream",
          "name": "stdout",
          "text": [
            "18.346\n",
            "20.0\n"
          ]
        }
      ]
    },
    {
      "cell_type": "markdown",
      "source": [
        "* Mean number of cigarettes for a smoker = 18.34\n",
        "* Median number of cigarettes for a smoker = 20"
      ],
      "metadata": {
        "id": "3UGQQB-sm7xy"
      }
    },
    {
      "cell_type": "code",
      "source": [
        "# distribution of number of cigarettes per day for smokers (excluding non-smokers)\n",
        "plt.figure(figsize=(10,5))\n",
        "sns.distplot(cardio_df[cardio_df['is_smoking']==1]['cigs_per_day'])\n",
        "plt.axvline(cardio_df[cardio_df['is_smoking']==1]['cigs_per_day'].mean(), color='magenta', linestyle='dashed', linewidth=2, label = 'mean')\n",
        "plt.axvline(cardio_df[cardio_df['is_smoking']==1]['cigs_per_day'].median(), color='black', linestyle='dashed', linewidth=2, label= 'median')\n",
        "plt.title('Cigs_per_day for smokers distribution')\n",
        "plt.legend()\n",
        "plt.show()"
      ],
      "metadata": {
        "colab": {
          "base_uri": "https://localhost:8080/",
          "height": 496
        },
        "id": "yVg7PqjUm4tQ",
        "outputId": "f0322552-ee04-448d-9069-8f1904c17daf"
      },
      "execution_count": 24,
      "outputs": [
        {
          "output_type": "display_data",
          "data": {
            "text/plain": [
              "<Figure size 1000x500 with 1 Axes>"
            ],
            "image/png": "[encoded data removed]"
          },
          "metadata": {}
        }
      ]
    },
    {
      "cell_type": "code",
      "source": [
        "# box plot for the number of cigarettes per day for smokers (excluding non-smokers)\n",
        "plt.figure(figsize=(7,5))\n",
        "sns.boxplot(cardio_df[cardio_df['is_smoking']==1]['cigs_per_day'], orient =  \"h\")"
      ],
      "metadata": {
        "colab": {
          "base_uri": "https://localhost:8080/",
          "height": 467
        },
        "id": "cvTQzAgDnePA",
        "outputId": "f005a3eb-ca96-402a-a9b8-54b0e4462073"
      },
      "execution_count": 25,
      "outputs": [
        {
          "output_type": "execute_result",
          "data": {
            "text/plain": [
              "<Axes: >"
            ]
          },
          "metadata": {},
          "execution_count": 25
        },
        {
          "output_type": "display_data",
          "data": {
            "text/plain": [
              "<Figure size 700x500 with 1 Axes>"
            ],
            "image/png": "[encoded data removed]"
          },
          "metadata": {}
        }
      ]
    },
    {
      "cell_type": "markdown",
      "source": [
        "**Since the number of cigarettes smoked by the patients who smoke contains outliers, the missing values in ths cigs_per_day column can be imputed with its median value.**"
      ],
      "metadata": {
        "id": "tNFsBnnupvFW"
      }
    },
    {
      "cell_type": "code",
      "source": [
        "# Imputing the missing values in the cigs_per_day\n",
        "cardio_df['cigs_per_day'] = cardio_df['cigs_per_day'].fillna(cardio_df[cardio_df['is_smoking']==1]['cigs_per_day'].median())"
      ],
      "metadata": {
        "id": "Ul2FNxFpnu1o"
      },
      "execution_count": 26,
      "outputs": []
    },
    {
      "cell_type": "code",
      "source": [
        "# Checking for any wrong entries where the patient is not a smoker\n",
        "# and cigarettes per day above 0\n",
        "\n",
        "cardio_df[(cardio_df['is_smoking']==0) & (cardio_df['cigs_per_day']>0)]"
      ],
      "metadata": {
        "colab": {
          "base_uri": "https://localhost:8080/",
          "height": 145
        },
        "id": "bmd5jushnTcp",
        "outputId": "14d09423-ce35-4310-b2b1-6327ecbfc4fb"
      },
      "execution_count": 27,
      "outputs": [
        {
          "output_type": "execute_result",
          "data": {
            "text/plain": [
              "Empty DataFrame\n",
              "Columns: [age, education, sex, is_smoking, cigs_per_day, bp_meds, prevalent_stroke, prevalent_hyp, diabetes, total_cholesterol, systolic_bp, diastolic_bp, bmi, heart_rate, glucose, ten_year_chd]\n",
              "Index: []"
            ],
            "text/html": [
              "\n",
              "  <div id=\"df-5a9b2d2f-34aa-4869-aee4-39a7b338ac90\">\n",
              "    <div class=\"colab-df-container\">\n",
              "      <div>\n",
              "<style scoped>\n",
              "    .dataframe tbody tr th:only-of-type {\n",
              "        vertical-align: middle;\n",
              "    }\n",
              "\n",
              "    .dataframe tbody tr th {\n",
              "        vertical-align: top;\n",
              "    }\n",
              "\n",
              "    .dataframe thead th {\n",
              "        text-align: right;\n",
              "    }\n",
              "</style>\n",
              "<table border=\"1\" class=\"dataframe\">\n",
              "  <thead>\n",
              "    <tr style=\"text-align: right;\">\n",
              "      <th></th>\n",
              "      <th>age</th>\n",
              "      <th>education</th>\n",
              "      <th>sex</th>\n",
              "      <th>is_smoking</th>\n",
              "      <th>cigs_per_day</th>\n",
              "      <th>bp_meds</th>\n",
              "      <th>prevalent_stroke</th>\n",
              "      <th>prevalent_hyp</th>\n",
              "      <th>diabetes</th>\n",
              "      <th>total_cholesterol</th>\n",
              "      <th>systolic_bp</th>\n",
              "      <th>diastolic_bp</th>\n",
              "      <th>bmi</th>\n",
              "      <th>heart_rate</th>\n",
              "      <th>glucose</th>\n",
              "      <th>ten_year_chd</th>\n",
              "    </tr>\n",
              "    <tr>\n",
              "      <th>id</th>\n",
              "      <th></th>\n",
              "      <th></th>\n",
              "      <th></th>\n",
              "      <th></th>\n",
              "      <th></th>\n",
              "      <th></th>\n",
              "      <th></th>\n",
              "      <th></th>\n",
              "      <th></th>\n",
              "      <th></th>\n",
              "      <th></th>\n",
              "      <th></th>\n",
              "      <th></th>\n",
              "      <th></th>\n",
              "      <th></th>\n",
              "      <th></th>\n",
              "    </tr>\n",
              "  </thead>\n",
              "  <tbody>\n",
              "  </tbody>\n",
              "</table>\n",
              "</div>\n",
              "      <button class=\"colab-df-convert\" onclick=\"convertToInteractive('df-5a9b2d2f-34aa-4869-aee4-39a7b338ac90')\"\n",
              "              title=\"Convert this dataframe to an interactive table.\"\n",
              "              style=\"display:none;\">\n",
              "        \n",
              "  <svg xmlns=\"http://www.w3.org/2000/svg\" height=\"24px\"viewBox=\"0 0 24 24\"\n",
              "       width=\"24px\">\n",
              "    <path d=\"M0 0h24v24H0V0z\" fill=\"none\"/>\n",
              "    <path d=\"M18.56 5.44l.94 2.06.94-2.06 2.06-.94-2.06-.94-.94-2.06-.94 2.06-2.06.94zm-11 1L8.5 8.5l.94-2.06 2.06-.94-2.06-.94L8.5 2.5l-.94 2.06-2.06.94zm10 10l.94 2.06.94-2.06 2.06-.94-2.06-.94-.94-2.06-.94 2.06-2.06.94z\"/><path d=\"M17.41 7.96l-1.37-1.37c-.4-.4-.92-.59-1.43-.59-.52 0-1.04.2-1.43.59L10.3 9.45l-7.72 7.72c-.78.78-.78 2.05 0 2.83L4 21.41c.39.39.9.59 1.41.59.51 0 1.02-.2 1.41-.59l7.78-7.78 2.81-2.81c.8-.78.8-2.07 0-2.86zM5.41 20L4 18.59l7.72-7.72 1.47 1.35L5.41 20z\"/>\n",
              "  </svg>\n",
              "      </button>\n",
              "      \n",
              "  <style>\n",
              "    .colab-df-container {\n",
              "      display:flex;\n",
              "      flex-wrap:wrap;\n",
              "      gap: 12px;\n",
              "    }\n",
              "\n",
              "    .colab-df-convert {\n",
              "      background-color: #E8F0FE;\n",
              "      border: none;\n",
              "      border-radius: 50%;\n",
              "      cursor: pointer;\n",
              "      display: none;\n",
              "      fill: #1967D2;\n",
              "      height: 32px;\n",
              "      padding: 0 0 0 0;\n",
              "      width: 32px;\n",
              "    }\n",
              "\n",
              "    .colab-df-convert:hover {\n",
              "      background-color: #E2EBFA;\n",
              "      box-shadow: 0px 1px 2px rgba(60, 64, 67, 0.3), 0px 1px 3px 1px rgba(60, 64, 67, 0.15);\n",
              "      fill: #174EA6;\n",
              "    }\n",
              "\n",
              "    [theme=dark] .colab-df-convert {\n",
              "      background-color: #3B4455;\n",
              "      fill: #D2E3FC;\n",
              "    }\n",
              "\n",
              "    [theme=dark] .colab-df-convert:hover {\n",
              "      background-color: #434B5C;\n",
              "      box-shadow: 0px 1px 3px 1px rgba(0, 0, 0, 0.15);\n",
              "      filter: drop-shadow(0px 1px 2px rgba(0, 0, 0, 0.3));\n",
              "      fill: #FFFFFF;\n",
              "    }\n",
              "  </style>\n",
              "\n",
              "      <script>\n",
              "        const buttonEl =\n",
              "          document.querySelector('#df-5a9b2d2f-34aa-4869-aee4-39a7b338ac90 button.colab-df-convert');\n",
              "        buttonEl.style.display =\n",
              "          google.colab.kernel.accessAllowed ? 'block' : 'none';\n",
              "\n",
              "        async function convertToInteractive(key) {\n",
              "          const element = document.querySelector('#df-5a9b2d2f-34aa-4869-aee4-39a7b338ac90');\n",
              "          const dataTable =\n",
              "            await google.colab.kernel.invokeFunction('convertToInteractive',\n",
              "                                                     [key], {});\n",
              "          if (!dataTable) return;\n",
              "\n",
              "          const docLinkHtml = 'Like what you see? Visit the ' +\n",
              "            '<a target=\"_blank\" href=https://colab.research.google.com/notebooks/data_table.ipynb>data table notebook</a>'\n",
              "            + ' to learn more about interactive tables.';\n",
              "          element.innerHTML = '';\n",
              "          dataTable['output_type'] = 'display_data';\n",
              "          await google.colab.output.renderOutput(dataTable, element);\n",
              "          const docLink = document.createElement('div');\n",
              "          docLink.innerHTML = docLinkHtml;\n",
              "          element.appendChild(docLink);\n",
              "        }\n",
              "      </script>\n",
              "    </div>\n",
              "  </div>\n",
              "  "
            ]
          },
          "metadata": {},
          "execution_count": 27
        }
      ]
    },
    {
      "cell_type": "code",
      "source": [
        "# Checking for any wrong entries where the patient is a smoker\n",
        "# and cigarettes per day is 0\n",
        "\n",
        "cardio_df[(cardio_df['is_smoking']==1) & (cardio_df['cigs_per_day']==0)]"
      ],
      "metadata": {
        "colab": {
          "base_uri": "https://localhost:8080/",
          "height": 145
        },
        "id": "aMN8C_aenmHV",
        "outputId": "f4a69f20-91a1-4655-b3b7-dba3ff0298dc"
      },
      "execution_count": 28,
      "outputs": [
        {
          "output_type": "execute_result",
          "data": {
            "text/plain": [
              "Empty DataFrame\n",
              "Columns: [age, education, sex, is_smoking, cigs_per_day, bp_meds, prevalent_stroke, prevalent_hyp, diabetes, total_cholesterol, systolic_bp, diastolic_bp, bmi, heart_rate, glucose, ten_year_chd]\n",
              "Index: []"
            ],
            "text/html": [
              "\n",
              "  <div id=\"df-a69dafb6-9721-4a65-9779-8ef8a90e31e9\">\n",
              "    <div class=\"colab-df-container\">\n",
              "      <div>\n",
              "<style scoped>\n",
              "    .dataframe tbody tr th:only-of-type {\n",
              "        vertical-align: middle;\n",
              "    }\n",
              "\n",
              "    .dataframe tbody tr th {\n",
              "        vertical-align: top;\n",
              "    }\n",
              "\n",
              "    .dataframe thead th {\n",
              "        text-align: right;\n",
              "    }\n",
              "</style>\n",
              "<table border=\"1\" class=\"dataframe\">\n",
              "  <thead>\n",
              "    <tr style=\"text-align: right;\">\n",
              "      <th></th>\n",
              "      <th>age</th>\n",
              "      <th>education</th>\n",
              "      <th>sex</th>\n",
              "      <th>is_smoking</th>\n",
              "      <th>cigs_per_day</th>\n",
              "      <th>bp_meds</th>\n",
              "      <th>prevalent_stroke</th>\n",
              "      <th>prevalent_hyp</th>\n",
              "      <th>diabetes</th>\n",
              "      <th>total_cholesterol</th>\n",
              "      <th>systolic_bp</th>\n",
              "      <th>diastolic_bp</th>\n",
              "      <th>bmi</th>\n",
              "      <th>heart_rate</th>\n",
              "      <th>glucose</th>\n",
              "      <th>ten_year_chd</th>\n",
              "    </tr>\n",
              "    <tr>\n",
              "      <th>id</th>\n",
              "      <th></th>\n",
              "      <th></th>\n",
              "      <th></th>\n",
              "      <th></th>\n",
              "      <th></th>\n",
              "      <th></th>\n",
              "      <th></th>\n",
              "      <th></th>\n",
              "      <th></th>\n",
              "      <th></th>\n",
              "      <th></th>\n",
              "      <th></th>\n",
              "      <th></th>\n",
              "      <th></th>\n",
              "      <th></th>\n",
              "      <th></th>\n",
              "    </tr>\n",
              "  </thead>\n",
              "  <tbody>\n",
              "  </tbody>\n",
              "</table>\n",
              "</div>\n",
              "      <button class=\"colab-df-convert\" onclick=\"convertToInteractive('df-a69dafb6-9721-4a65-9779-8ef8a90e31e9')\"\n",
              "              title=\"Convert this dataframe to an interactive table.\"\n",
              "              style=\"display:none;\">\n",
              "        \n",
              "  <svg xmlns=\"http://www.w3.org/2000/svg\" height=\"24px\"viewBox=\"0 0 24 24\"\n",
              "       width=\"24px\">\n",
              "    <path d=\"M0 0h24v24H0V0z\" fill=\"none\"/>\n",
              "    <path d=\"M18.56 5.44l.94 2.06.94-2.06 2.06-.94-2.06-.94-.94-2.06-.94 2.06-2.06.94zm-11 1L8.5 8.5l.94-2.06 2.06-.94-2.06-.94L8.5 2.5l-.94 2.06-2.06.94zm10 10l.94 2.06.94-2.06 2.06-.94-2.06-.94-.94-2.06-.94 2.06-2.06.94z\"/><path d=\"M17.41 7.96l-1.37-1.37c-.4-.4-.92-.59-1.43-.59-.52 0-1.04.2-1.43.59L10.3 9.45l-7.72 7.72c-.78.78-.78 2.05 0 2.83L4 21.41c.39.39.9.59 1.41.59.51 0 1.02-.2 1.41-.59l7.78-7.78 2.81-2.81c.8-.78.8-2.07 0-2.86zM5.41 20L4 18.59l7.72-7.72 1.47 1.35L5.41 20z\"/>\n",
              "  </svg>\n",
              "      </button>\n",
              "      \n",
              "  <style>\n",
              "    .colab-df-container {\n",
              "      display:flex;\n",
              "      flex-wrap:wrap;\n",
              "      gap: 12px;\n",
              "    }\n",
              "\n",
              "    .colab-df-convert {\n",
              "      background-color: #E8F0FE;\n",
              "      border: none;\n",
              "      border-radius: 50%;\n",
              "      cursor: pointer;\n",
              "      display: none;\n",
              "      fill: #1967D2;\n",
              "      height: 32px;\n",
              "      padding: 0 0 0 0;\n",
              "      width: 32px;\n",
              "    }\n",
              "\n",
              "    .colab-df-convert:hover {\n",
              "      background-color: #E2EBFA;\n",
              "      box-shadow: 0px 1px 2px rgba(60, 64, 67, 0.3), 0px 1px 3px 1px rgba(60, 64, 67, 0.15);\n",
              "      fill: #174EA6;\n",
              "    }\n",
              "\n",
              "    [theme=dark] .colab-df-convert {\n",
              "      background-color: #3B4455;\n",
              "      fill: #D2E3FC;\n",
              "    }\n",
              "\n",
              "    [theme=dark] .colab-df-convert:hover {\n",
              "      background-color: #434B5C;\n",
              "      box-shadow: 0px 1px 3px 1px rgba(0, 0, 0, 0.15);\n",
              "      filter: drop-shadow(0px 1px 2px rgba(0, 0, 0, 0.3));\n",
              "      fill: #FFFFFF;\n",
              "    }\n",
              "  </style>\n",
              "\n",
              "      <script>\n",
              "        const buttonEl =\n",
              "          document.querySelector('#df-a69dafb6-9721-4a65-9779-8ef8a90e31e9 button.colab-df-convert');\n",
              "        buttonEl.style.display =\n",
              "          google.colab.kernel.accessAllowed ? 'block' : 'none';\n",
              "\n",
              "        async function convertToInteractive(key) {\n",
              "          const element = document.querySelector('#df-a69dafb6-9721-4a65-9779-8ef8a90e31e9');\n",
              "          const dataTable =\n",
              "            await google.colab.kernel.invokeFunction('convertToInteractive',\n",
              "                                                     [key], {});\n",
              "          if (!dataTable) return;\n",
              "\n",
              "          const docLinkHtml = 'Like what you see? Visit the ' +\n",
              "            '<a target=\"_blank\" href=https://colab.research.google.com/notebooks/data_table.ipynb>data table notebook</a>'\n",
              "            + ' to learn more about interactive tables.';\n",
              "          element.innerHTML = '';\n",
              "          dataTable['output_type'] = 'display_data';\n",
              "          await google.colab.output.renderOutput(dataTable, element);\n",
              "          const docLink = document.createElement('div');\n",
              "          docLink.innerHTML = docLinkHtml;\n",
              "          element.appendChild(docLink);\n",
              "        }\n",
              "      </script>\n",
              "    </div>\n",
              "  </div>\n",
              "  "
            ]
          },
          "metadata": {},
          "execution_count": 28
        }
      ]
    },
    {
      "cell_type": "markdown",
      "source": [
        "**There are no errors in these columns.**"
      ],
      "metadata": {
        "id": "-lYoWcWonxjx"
      }
    },
    {
      "cell_type": "markdown",
      "source": [
        "## **5.3. total_cholestrol, bmi, heart_rate:**"
      ],
      "metadata": {
        "id": "7G9S5El5n0cs"
      }
    },
    {
      "cell_type": "code",
      "source": [
        "# Checking the distribution of the total_cholesterol, bmi, and heart_rate\n",
        "for i in ['total_cholesterol', 'bmi', 'heart_rate']:\n",
        "  plt.figure(figsize = (10,5))\n",
        "  sns.distplot(cardio_df[i])\n",
        "  plt.axvline(cardio_df[i].mean(), color = 'Red', linestyle = 'dashed', linewidth= 2,label = 'mean')\n",
        "  plt.axvline(cardio_df[i].median(), color = 'black', linestyle = 'dashed', linewidth= 2, label = 'median')\n",
        "  plt.legend()\n",
        "  plt.title(i + ' distribution')\n",
        "  plt.show()"
      ],
      "metadata": {
        "colab": {
          "base_uri": "https://localhost:8080/",
          "height": 1000
        },
        "id": "xD4rTSRGnvPF",
        "outputId": "cbe126f7-c3ec-4f9d-b3a8-ca91dcd8e186"
      },
      "execution_count": 31,
      "outputs": [
        {
          "output_type": "display_data",
          "data": {
            "text/plain": [
              "<Figure size 1000x500 with 1 Axes>"
            ],
            "image/png": "[encoded data removed]"
          },
          "metadata": {}
        },
        {
          "output_type": "display_data",
          "data": {
            "text/plain": [
              "<Figure size 1000x500 with 1 Axes>"
            ],
            "image/png": "[encoded data removed]"
          },
          "metadata": {}
        },
        {
          "output_type": "display_data",
          "data": {
            "text/plain": [
              "<Figure size 1000x500 with 1 Axes>"
            ],
            "image/png": "[encoded data removed]"
          },
          "metadata": {}
        }
      ]
    },
    {
      "cell_type": "markdown",
      "source": [
        "**The total_cholestrol, bmi, and heart_rate columns are positively skewed**"
      ],
      "metadata": {
        "id": "Sw7Up_3Zpl95"
      }
    },
    {
      "cell_type": "code",
      "source": [
        "# Checking outliers in total_cholesterol, bmi, heart_rate columns\n",
        "for i in ['total_cholesterol','bmi','heart_rate']:\n",
        "  plt.figure(figsize=(10,5))\n",
        "  sns.boxplot(cardio_df[i], orient = 'h')\n",
        "  plt.title(i+' boxplot')\n",
        "  plt.show()"
      ],
      "metadata": {
        "colab": {
          "base_uri": "https://localhost:8080/",
          "height": 1000
        },
        "id": "hSTHamJTpLMe",
        "outputId": "8686f8a8-78ec-4993-a000-07aa3fcfddbe"
      },
      "execution_count": 32,
      "outputs": [
        {
          "output_type": "display_data",
          "data": {
            "text/plain": [
              "<Figure size 1000x500 with 1 Axes>"
            ],
            "image/png": "[encoded data removed]"
          },
          "metadata": {}
        },
        {
          "output_type": "display_data",
          "data": {
            "text/plain": [
              "<Figure size 1000x500 with 1 Axes>"
            ],
            "image/png": "[encoded data removed]"
          },
          "metadata": {}
        },
        {
          "output_type": "display_data",
          "data": {
            "text/plain": [
              "<Figure size 1000x500 with 1 Axes>"
            ],
            "image/png": "[encoded data removed]"
          },
          "metadata": {}
        }
      ]
    },
    {
      "cell_type": "markdown",
      "source": [
        "**The total_cholestrol, bmi, and heart_rate columns contain outliers.**\n",
        "\n",
        "**Since the total_cholestrol, bmi, and heart_rate columns are positively skewed, and also contains outliers. We can impute the missing values with its median.**\n"
      ],
      "metadata": {
        "id": "V-wOIV-Gp-t1"
      }
    },
    {
      "cell_type": "code",
      "source": [
        "# Imputing missing values in the total_cholesterol, bmi, and heart_rate with their medain values\n",
        "cardio_df['total_cholesterol'] = cardio_df['total_cholesterol'].fillna(cardio_df['total_cholesterol'].median())\n",
        "cardio_df['bmi'] = cardio_df['bmi'].fillna(cardio_df['bmi'].median())\n",
        "cardio_df['heart_rate'] = cardio_df['heart_rate'].fillna(cardio_df['heart_rate'].median())"
      ],
      "metadata": {
        "id": "OvvexDm0pwO1"
      },
      "execution_count": 33,
      "outputs": []
    },
    {
      "cell_type": "markdown",
      "source": [
        "## **5.4. glucose:**"
      ],
      "metadata": {
        "id": "3nZl3_RGqbuS"
      }
    },
    {
      "cell_type": "markdown",
      "source": [
        "**The glucose column contains 304 missing values.**"
      ],
      "metadata": {
        "id": "uPjKsZacqejp"
      }
    },
    {
      "cell_type": "code",
      "source": [
        "# distribution of glucose\n",
        "plt.figure(figsize=(10,5))\n",
        "sns.distplot(cardio_df['glucose'])\n",
        "plt.axvline(cardio_df['glucose'].mean(), color='red', linestyle='dashed', linewidth=2, label = 'mean')\n",
        "plt.axvline(cardio_df['glucose'].median(), color='black', linestyle='dashed', linewidth=2 , label = 'median')\n",
        "plt.title('Glucose distribution')\n",
        "plt.legend()\n",
        "plt.show()"
      ],
      "metadata": {
        "colab": {
          "base_uri": "https://localhost:8080/",
          "height": 496
        },
        "id": "CwJhTBvUqWrV",
        "outputId": "ebc13675-6eef-4969-de31-bcf3c68ee7d5"
      },
      "execution_count": 37,
      "outputs": [
        {
          "output_type": "display_data",
          "data": {
            "text/plain": [
              "<Figure size 1000x500 with 1 Axes>"
            ],
            "image/png": "[encoded data removed]"
          },
          "metadata": {}
        }
      ]
    },
    {
      "cell_type": "markdown",
      "source": [
        "**The glucose column is positively skewed.**"
      ],
      "metadata": {
        "id": "64oTC2YprB-R"
      }
    },
    {
      "cell_type": "code",
      "source": [
        "# Outliers in glucose\n",
        "plt.figure(figsize=(10,5))\n",
        "sns.boxplot(cardio_df['glucose'], orient= 'h')\n",
        "plt.title('Glucose boxplot')"
      ],
      "metadata": {
        "colab": {
          "base_uri": "https://localhost:8080/",
          "height": 489
        },
        "id": "r9BtC7dsqy00",
        "outputId": "b23c3f4e-0496-436d-8587-4786ea8d840f"
      },
      "execution_count": 39,
      "outputs": [
        {
          "output_type": "execute_result",
          "data": {
            "text/plain": [
              "Text(0.5, 1.0, 'Glucose boxplot')"
            ]
          },
          "metadata": {},
          "execution_count": 39
        },
        {
          "output_type": "display_data",
          "data": {
            "text/plain": [
              "<Figure size 1000x500 with 1 Axes>"
            ],
            "image/png": "[encoded data removed]"
          },
          "metadata": {}
        }
      ]
    },
    {
      "cell_type": "markdown",
      "source": [
        "**The glucose column contains outliers.**"
      ],
      "metadata": {
        "id": "P9D-yz-ErQi7"
      }
    },
    {
      "cell_type": "code",
      "source": [
        "# Mean, median, and mode for glucose\n",
        "cardio_df.glucose.mean(), cardio_df.glucose.median(), cardio_df.glucose.mode()"
      ],
      "metadata": {
        "colab": {
          "base_uri": "https://localhost:8080/"
        },
        "id": "fRd1rGqKrHfV",
        "outputId": "27f6eefb-43af-43e9-a84b-df5eb67afce0"
      },
      "execution_count": 40,
      "outputs": [
        {
          "output_type": "execute_result",
          "data": {
            "text/plain": [
              "(82.08651976668827,\n",
              " 78.0,\n",
              " 0    75.0\n",
              " Name: glucose, dtype: float64)"
            ]
          },
          "metadata": {},
          "execution_count": 40
        }
      ]
    },
    {
      "cell_type": "markdown",
      "source": [
        "* The distribution is positively skewed, with outliers.(mean> median> mode)\n",
        "* There are **304** missing values in the glucose column. **If we choose to impute them with a single value of mean / median, we will be adding high bias at that point.**\n",
        "* **To avoid this we can impute the missing values using KNN imputer.**\n",
        "* If the dataset in question had been a time series, we could have used the interpolation method to impute the missing values."
      ],
      "metadata": {
        "id": "AnZkV8aRrpso"
      }
    },
    {
      "cell_type": "code",
      "source": [
        "# Using KNN imputer with K=10\n",
        "imputer = KNNImputer(n_neighbors=10)\n",
        "imputed = imputer.fit_transform(cardio_df)\n",
        "cardio_df = pd.DataFrame(imputed, columns=cardio_df.columns)"
      ],
      "metadata": {
        "id": "015mfO40rhlm"
      },
      "execution_count": 41,
      "outputs": []
    },
    {
      "cell_type": "code",
      "source": [
        "# mean, median, and mode for glucose after knn imputation\n",
        "cardio_df.glucose.mean(), cardio_df.glucose.median(), cardio_df.glucose.mode()"
      ],
      "metadata": {
        "colab": {
          "base_uri": "https://localhost:8080/"
        },
        "id": "oWIZ3YiDr_hV",
        "outputId": "8d7570ee-0736-4485-90b8-4301726f2ddf"
      },
      "execution_count": 42,
      "outputs": [
        {
          "output_type": "execute_result",
          "data": {
            "text/plain": [
              "(82.04327433628319,\n",
              " 78.0,\n",
              " 0    75.0\n",
              " Name: glucose, dtype: float64)"
            ]
          },
          "metadata": {},
          "execution_count": 42
        }
      ]
    },
    {
      "cell_type": "markdown",
      "source": [
        "**After KNN imputation, there is no massive change in the values of mean. And the values of median and mode remain the same.**"
      ],
      "metadata": {
        "id": "LuMIBIZjsOax"
      }
    },
    {
      "cell_type": "code",
      "source": [
        "cardio_df.info()"
      ],
      "metadata": {
        "colab": {
          "base_uri": "https://localhost:8080/"
        },
        "id": "C08vjd5GsHI8",
        "outputId": "e580fd1d-dc9e-4f47-b878-20f56f81bece"
      },
      "execution_count": 43,
      "outputs": [
        {
          "output_type": "stream",
          "name": "stdout",
          "text": [
            "<class 'pandas.core.frame.DataFrame'>\n",
            "RangeIndex: 3390 entries, 0 to 3389\n",
            "Data columns (total 16 columns):\n",
            " #   Column             Non-Null Count  Dtype  \n",
            "---  ------             --------------  -----  \n",
            " 0   age                3390 non-null   float64\n",
            " 1   education          3390 non-null   float64\n",
            " 2   sex                3390 non-null   float64\n",
            " 3   is_smoking         3390 non-null   float64\n",
            " 4   cigs_per_day       3390 non-null   float64\n",
            " 5   bp_meds            3390 non-null   float64\n",
            " 6   prevalent_stroke   3390 non-null   float64\n",
            " 7   prevalent_hyp      3390 non-null   float64\n",
            " 8   diabetes           3390 non-null   float64\n",
            " 9   total_cholesterol  3390 non-null   float64\n",
            " 10  systolic_bp        3390 non-null   float64\n",
            " 11  diastolic_bp       3390 non-null   float64\n",
            " 12  bmi                3390 non-null   float64\n",
            " 13  heart_rate         3390 non-null   float64\n",
            " 14  glucose            3390 non-null   float64\n",
            " 15  ten_year_chd       3390 non-null   float64\n",
            "dtypes: float64(16)\n",
            "memory usage: 423.9 KB\n"
          ]
        }
      ]
    },
    {
      "cell_type": "markdown",
      "source": [
        "The KNN imputer has converted all the columns to the float64 datatype. Hence, changing the column datatype accordingly as per the kind of data stored in the respective column."
      ],
      "metadata": {
        "id": "cEOL9vpisaV1"
      }
    },
    {
      "cell_type": "code",
      "source": [
        "# changing datatypes\n",
        "cardio_df = cardio_df.astype({'age': int, 'education':int,'sex':int,'is_smoking':int,'cigs_per_day':int,\n",
        "               'bp_meds':int,'prevalent_stroke':int,'prevalent_hyp':int,'diabetes':int,\n",
        "               'total_cholesterol':float,'systolic_bp':float,'diastolic_bp':float,\n",
        "               'bmi':float,'heart_rate':float,'glucose':float,'ten_year_chd':int})"
      ],
      "metadata": {
        "id": "9hleG5TrsYUW"
      },
      "execution_count": 44,
      "outputs": []
    },
    {
      "cell_type": "code",
      "source": [
        "# checking for missing values\n",
        "cardio_df.isna().sum()"
      ],
      "metadata": {
        "colab": {
          "base_uri": "https://localhost:8080/"
        },
        "id": "vBzIa0rpsgDu",
        "outputId": "0e36f9a9-69b7-4fcd-e005-b65cc145393c"
      },
      "execution_count": 47,
      "outputs": [
        {
          "output_type": "execute_result",
          "data": {
            "text/plain": [
              "age                  0\n",
              "education            0\n",
              "sex                  0\n",
              "is_smoking           0\n",
              "cigs_per_day         0\n",
              "bp_meds              0\n",
              "prevalent_stroke     0\n",
              "prevalent_hyp        0\n",
              "diabetes             0\n",
              "total_cholesterol    0\n",
              "systolic_bp          0\n",
              "diastolic_bp         0\n",
              "bmi                  0\n",
              "heart_rate           0\n",
              "glucose              0\n",
              "ten_year_chd         0\n",
              "dtype: int64"
            ]
          },
          "metadata": {},
          "execution_count": 47
        }
      ]
    },
    {
      "cell_type": "markdown",
      "source": [
        "**We have successfully handled all the missing values in the dataset.**"
      ],
      "metadata": {
        "id": "fIx9eFHjssg1"
      }
    },
    {
      "cell_type": "code",
      "source": [],
      "metadata": {
        "id": "DNU6rpz8skUe"
      },
      "execution_count": null,
      "outputs": []
    }
  ]
}